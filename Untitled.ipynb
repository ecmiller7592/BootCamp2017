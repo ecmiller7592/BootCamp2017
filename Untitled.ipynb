{
 "cells": [
  {
   "cell_type": "code",
   "execution_count": 47,
   "metadata": {},
   "outputs": [
    {
     "name": "stdout",
     "output_type": "stream",
     "text": [
      "Local Minimum              : -0.171282339029561\n",
      "Total No. of Iterations    : 383\n",
      "Time Elapsed               : 1.5745015144348145  seconds\n"
     ]
    }
   ],
   "source": [
    "import sympy as sy\n",
    "from numba import jit\n",
    "import time\n",
    "\n",
    "def testf(x):\n",
    "    return np.random.random()*x**2 + np.random.random()*x + np.random.random()\n",
    "\n",
    "def fprime(f):\n",
    "    x = sy.symbols('x')\n",
    "    y = f(x)\n",
    "    yprime = y.diff(x)\n",
    "    return yprime\n",
    "\n",
    "def fdbprime(f):\n",
    "    x = sy.symbols('x')\n",
    "    y = f(x)\n",
    "    yprime = y.diff(x)\n",
    "    ydbprime = yprime.diff(x)\n",
    "    return ydbprime\n",
    "\n",
    "def Newton(f,tol=0.001):\n",
    "    x = sy.symbols('x')\n",
    "    t = 0\n",
    "    e = 1\n",
    "    g = 0\n",
    "    start = time.time()\n",
    "    while e > tol and t < 100000:\n",
    "        f1 = fprime(f)\n",
    "        f2 = fdbprime(f)\n",
    "        xt = g - (f1.subs(x,g)/(f2.subs(x,g)))\n",
    "        e = abs(g - xt)\n",
    "        t = t + 1\n",
    "        g = xt\n",
    "    elapse = time.time() - start\n",
    "    return xt,t,elapse\n",
    "\n",
    "minimum, iterations, elapsed = Newton(testf)\n",
    "print(\"Local Minimum              :\",minimum)\n",
    "print(\"Total No. of Iterations    :\",iterations)\n",
    "print(\"Time Elapsed               :\",elapsed,\" seconds\")"
   ]
  },
  {
   "cell_type": "code",
   "execution_count": null,
   "metadata": {
    "collapsed": true
   },
   "outputs": [],
   "source": []
  }
 ],
 "metadata": {
  "kernelspec": {
   "display_name": "Python 3",
   "language": "python",
   "name": "python3"
  },
  "language_info": {
   "codemirror_mode": {
    "name": "ipython",
    "version": 3
   },
   "file_extension": ".py",
   "mimetype": "text/x-python",
   "name": "python",
   "nbconvert_exporter": "python",
   "pygments_lexer": "ipython3",
   "version": "3.6.1"
  }
 },
 "nbformat": 4,
 "nbformat_minor": 2
}
