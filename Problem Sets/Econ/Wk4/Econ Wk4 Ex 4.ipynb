{
 "cells": [
  {
   "cell_type": "code",
   "execution_count": 1,
   "metadata": {
    "collapsed": true
   },
   "outputs": [],
   "source": [
    "import numpy as np\n",
    "import numpy.linalg as lin\n",
    "import scipy.stats as sts\n",
    "import scipy.integrate as intgr\n",
    "import scipy.optimize as opt\n",
    "import scipy.special as ss\n",
    "import matplotlib\n",
    "import matplotlib.pyplot as plt\n",
    "from mpl_toolkits.mplot3d import Axes3D\n",
    "from matplotlib import cm\n",
    "import time\n",
    "M = np.loadtxt(\"MacroSeries.txt\", delimiter=\",\")\n",
    "\n",
    "# M is structured as (c, k, w, r)"
   ]
  },
  {
   "cell_type": "code",
   "execution_count": 2,
   "metadata": {
    "collapsed": true
   },
   "outputs": [],
   "source": [
    "sigma = 0.1\n",
    "\n",
    "mu_i = 1.1\n",
    "beta_i = 0.8\n",
    "rho_i = 0.15\n",
    "alpha_i = 0.5\n",
    "pmi = np.array([mu_i,beta_i,rho_i,alpha_i])\n",
    "\n",
    "def GMMprob4(params,M,sigma):\n",
    "    mu,beta,rho,alpha = params\n",
    "    Z = np.log(M[:,2]/((1-alpha)*(M[:,1]**alpha)))\n",
    "    \n",
    "    mom_1 = Z[1:] - rho*Z[:-1] - (1 - rho)*mu\n",
    "    mom_2 = (Z[1:] - rho*np.mean(Z[:-1]) - (1 - rho)*mu)*Z[:-1]\n",
    "    mom_3 = beta*alpha*np.exp(Z[1:])*(M[1:,1]**(alpha-1))*(M[:-1,0]/M[1:,0]) - 1\n",
    "    mom_4 = (beta*alpha*np.exp(Z[1:])*(M[1:,1]**(alpha-1))*(M[:-1,0]/M[1:,0]) - 1)*M[:-1,2]\n",
    "    \n",
    "    m1 = np.mean(mom_1)\n",
    "    m2 = np.mean(mom_2)\n",
    "    m3 = np.mean(mom_3)\n",
    "    m4 = np.mean(mom_4)\n",
    "    \n",
    "    errors = -np.array([m1,m2,m3,m4])\n",
    "    err_fin= np.dot(errors,errors)\n",
    "    return err_fin"
   ]
  },
  {
   "cell_type": "markdown",
   "metadata": {
    "collapsed": true
   },
   "source": [
    "We seek to estimate the problem in #2, but with GMM."
   ]
  },
  {
   "cell_type": "code",
   "execution_count": 3,
   "metadata": {
    "scrolled": false
   },
   "outputs": [
    {
     "name": "stdout",
     "output_type": "stream",
     "text": [
      "Total Algorithm Duration:  0.08804202079772949 seconds\n",
      "Final Minimized Error   :  -4025.37106678\n",
      "   \n",
      "Mu (GMM)    : 1.10000000001\n",
      "Beta (GMM)  : 0.770942816236\n",
      "Rho (GMM)   : 0.150000000007\n",
      "Alpha (GMM) : 0.481837331811\n",
      "<4x4 LbfgsInvHessProduct with dtype=float64>\n"
     ]
    }
   ],
   "source": [
    "bounds = ((1e-10,None),(1e-10,None),(-1,1),(0,1))\n",
    "\n",
    "gmm_args = (M,sigma)\n",
    "start = time.time()\n",
    "results = opt.minimize(GMMprob4, pmi, args=(gmm_args),bounds=bounds)\n",
    "print(\"Total Algorithm Duration: \",time.time()-start,\"seconds\")\n",
    "print(\"Final Minimized Error   : \",-results.fun)\n",
    "print(\"   \")\n",
    "mumle, betamamle, rhomle, alphamle  = results.x\n",
    "print(\"Mu (GMM)    :\",mumle)\n",
    "print(\"Beta (GMM)  :\",betamamle)\n",
    "print(\"Rho (GMM)   :\",rhomle)\n",
    "print(\"Alpha (GMM) :\",alphamle)\n",
    "print(results.hess_inv)"
   ]
  },
  {
   "cell_type": "code",
   "execution_count": null,
   "metadata": {
    "collapsed": true
   },
   "outputs": [],
   "source": []
  }
 ],
 "metadata": {
  "kernelspec": {
   "display_name": "Python 3",
   "language": "python",
   "name": "python3"
  },
  "language_info": {
   "codemirror_mode": {
    "name": "ipython",
    "version": 3
   },
   "file_extension": ".py",
   "mimetype": "text/x-python",
   "name": "python",
   "nbconvert_exporter": "python",
   "pygments_lexer": "ipython3",
   "version": "3.6.1"
  }
 },
 "nbformat": 4,
 "nbformat_minor": 2
}
