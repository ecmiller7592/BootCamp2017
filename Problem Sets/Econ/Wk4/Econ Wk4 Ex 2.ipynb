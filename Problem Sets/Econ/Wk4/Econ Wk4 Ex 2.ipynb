{
 "cells": [
  {
   "cell_type": "code",
   "execution_count": 2,
   "metadata": {
    "collapsed": true
   },
   "outputs": [],
   "source": [
    "import numpy as np\n",
    "import scipy.optimize as opt\n",
    "import scipy.stats as st\n",
    "import time"
   ]
  },
  {
   "cell_type": "markdown",
   "metadata": {},
   "source": [
    "Part A: Use MLE and eqs 3,5 to find the optimal parameters"
   ]
  },
  {
   "cell_type": "code",
   "execution_count": 3,
   "metadata": {
    "collapsed": true
   },
   "outputs": [],
   "source": [
    "def normalpdf(x,mu,sigmasq):\n",
    "    r = (1/np.sqrt(2*np.pi*(sigmasq)))*np.exp(-(((x - mu)**2)/(2*(sigmasq))))\n",
    "    return r\n",
    "\n",
    "def LLprob2(params,M,beta):\n",
    "    mu,sigma,rho,alpha = params\n",
    "    Z = np.log(M[:,2]/((1-alpha)*(M[:,1]**alpha)))\n",
    "    Z_b = list(np.insert(Z,0,mu))\n",
    "    del Z_b[-1]\n",
    "    Zb = np.array(Z_b)\n",
    "    pdf_vals = normalpdf(Z,(rho*Zb + (1 - rho)*mu),sigma**2)\n",
    "    ln_pdf_vals = np.log(pdf_vals)\n",
    "    log_lik_val = ln_pdf_vals.sum()\n",
    "    return -log_lik_val"
   ]
  },
  {
   "cell_type": "code",
   "execution_count": 4,
   "metadata": {
    "scrolled": false
   },
   "outputs": [
    {
     "name": "stdout",
     "output_type": "stream",
     "text": [
      "Total Algorithm Duration:  0.07813858985900879 seconds\n",
      "Final Log-Likelyhood    :  96.70690804456811\n",
      "   \n",
      "Mu (MLE)    : 9.52305109587\n",
      "Sigma (MLE) : 0.0919961887029\n",
      "Rho (MLE)   : 0.72050708169\n",
      "Alpha (MLE) : 0.457492609413\n",
      "[[  1.82636043e-02   9.05818232e-04  -1.73751513e-02  -1.35167433e-03]\n",
      " [  9.05818232e-04   1.04220020e-04  -8.74875186e-04  -6.80344252e-05]\n",
      " [ -1.73751513e-02  -8.74875186e-04   1.65328436e-02   1.28586287e-03]\n",
      " [ -1.35167433e-03  -6.80344252e-05   1.28586287e-03   1.05058914e-04]]\n"
     ]
    },
    {
     "name": "stderr",
     "output_type": "stream",
     "text": [
      "C:\\Anaconda\\lib\\site-packages\\scipy\\optimize\\_minimize.py:394: RuntimeWarning: Method BFGS cannot handle constraints nor bounds.\n",
      "  RuntimeWarning)\n",
      "C:\\Anaconda\\lib\\site-packages\\ipykernel_launcher.py:12: RuntimeWarning: divide by zero encountered in log\n",
      "  if sys.path[0] == '':\n",
      "C:\\Anaconda\\lib\\site-packages\\scipy\\optimize\\optimize.py:628: RuntimeWarning: invalid value encountered in double_scalars\n",
      "  grad[k] = (f(*((xk + d,) + args)) - f0) / d[k]\n",
      "C:\\Anaconda\\lib\\site-packages\\ipykernel_launcher.py:12: RuntimeWarning: divide by zero encountered in log\n",
      "  if sys.path[0] == '':\n",
      "C:\\Anaconda\\lib\\site-packages\\ipykernel_launcher.py:12: RuntimeWarning: divide by zero encountered in log\n",
      "  if sys.path[0] == '':\n",
      "C:\\Anaconda\\lib\\site-packages\\scipy\\optimize\\optimize.py:628: RuntimeWarning: invalid value encountered in double_scalars\n",
      "  grad[k] = (f(*((xk + d,) + args)) - f0) / d[k]\n",
      "C:\\Anaconda\\lib\\site-packages\\ipykernel_launcher.py:12: RuntimeWarning: divide by zero encountered in log\n",
      "  if sys.path[0] == '':\n"
     ]
    }
   ],
   "source": [
    "M = np.loadtxt(\"MacroSeries.txt\", delimiter=\",\")\n",
    "beta = 0.99\n",
    "\n",
    "mu_i = 9.5\n",
    "sigma_i = 0.5\n",
    "rho_i = 0.55\n",
    "alpha_i = 0.5\n",
    "pmi = np.array([mu_i,sigma_i,rho_i,alpha_i])\n",
    "\n",
    "cons = ({'type': 'ineq', 'fun': lambda x: pmi[0]},\n",
    "        {'type': 'ineq', 'fun': lambda x: pmi[1]},\n",
    "        {'type': 'ineq', 'fun': lambda x: -(pmi[2] - 1)},\n",
    "        {'type': 'ineq', 'fun': lambda x: pmi[2] + 1},\n",
    "        {'type': 'ineq', 'fun': lambda x: -(pmi[3] - 1)},\n",
    "        {'type': 'ineq', 'fun': lambda x: pmi[3]}\n",
    "        )\n",
    "\n",
    "bounds = ((1e-10,None),(1e-10,None),(-1,1),(0,1))\n",
    "\n",
    "mle_args = (M,beta)\n",
    "start = time.time()\n",
    "results = opt.minimize(LLprob2, pmi, args=(mle_args),method=\"BFGS\", bounds=bounds)\n",
    "print(\"Total Algorithm Duration: \",time.time()-start,\"seconds\")\n",
    "print(\"Final Log-Likelyhood    : \",-results.fun)\n",
    "print(\"   \")\n",
    "mumle, sigmamle, rhomle, alphamle  = results.x\n",
    "print(\"Mu (MLE)    :\",mumle)\n",
    "print(\"Sigma (MLE) :\",sigmamle)\n",
    "print(\"Rho (MLE)   :\",rhomle)\n",
    "print(\"Alpha (MLE) :\",alphamle)\n",
    "print(results.hess_inv)"
   ]
  },
  {
   "cell_type": "markdown",
   "metadata": {
    "collapsed": true
   },
   "source": [
    "Part B: Use equations 4 and five to estimate maximum likelihood."
   ]
  },
  {
   "cell_type": "code",
   "execution_count": 42,
   "metadata": {},
   "outputs": [
    {
     "name": "stdout",
     "output_type": "stream",
     "text": [
      "Total Algorithm Duration:  0.11033105850219727 seconds\n",
      "Final Log-Likelyhood    :  96.70690798977938\n",
      "   \n",
      "Mu (MLE)    : 9.37126803734\n",
      "Sigma (MLE) : 0.0919966802033\n",
      "Rho (MLE)   : 0.72052527987\n",
      "Alpha (MLE) : 0.457462159627\n",
      "[[  1.54865366e+01  -9.52734760e-04   6.03591452e-01  -8.59134224e-01]\n",
      " [ -9.52734760e-04   3.33515226e-05  -4.27694544e-05   5.35620318e-05]\n",
      " [  6.03591452e-01  -4.27694544e-05   2.78585173e-02  -3.34841946e-02]\n",
      " [ -8.59134224e-01   5.35620318e-05  -3.34841946e-02   4.76648215e-02]]\n"
     ]
    },
    {
     "name": "stderr",
     "output_type": "stream",
     "text": [
      "C:\\Anaconda\\lib\\site-packages\\scipy\\optimize\\_minimize.py:394: RuntimeWarning: Method BFGS cannot handle constraints nor bounds.\n",
      "  RuntimeWarning)\n"
     ]
    }
   ],
   "source": [
    "def LLprob2_B(params,M,beta):\n",
    "    mu,sigma,rho,alpha = params\n",
    "    Z = np.log(M[:,3]/((alpha)*(M[:,1]**(alpha - 1))))\n",
    "    Z_b = list(np.insert(Z,0,mu))\n",
    "    del Z_b[-1]\n",
    "    Zb = np.array(Z_b)\n",
    "    pdf_vals = normalpdf(Z,(rho*Zb + (1 - rho)*mu),sigma**2)\n",
    "    ln_pdf_vals = np.log(pdf_vals)\n",
    "    log_lik_val = ln_pdf_vals.sum()\n",
    "    return -log_lik_val\n",
    "\n",
    "M = np.loadtxt(\"MacroSeries.txt\", delimiter=\",\")\n",
    "beta = 0.99\n",
    "\n",
    "mu_i = 1.5\n",
    "sigma_i = 0.5\n",
    "rho_i = 0.55\n",
    "alpha_i = 0.5\n",
    "pmi = np.array([mu_i,sigma_i,rho_i,alpha_i])\n",
    "\n",
    "cons = ({'type': 'ineq', 'fun': lambda x: pmi[0]},\n",
    "        {'type': 'ineq', 'fun': lambda x: pmi[1]},\n",
    "        {'type': 'ineq', 'fun': lambda x: -(pmi[2] - 1)},\n",
    "        {'type': 'ineq', 'fun': lambda x: pmi[2] + 1},\n",
    "        {'type': 'ineq', 'fun': lambda x: -(pmi[3] - 1)},\n",
    "        {'type': 'ineq', 'fun': lambda x: pmi[3]}\n",
    "        )\n",
    "\n",
    "bounds = ((1e-10,None),(1e-10,None),(-1,1),(0,1))\n",
    "\n",
    "mle_args = (M,beta)\n",
    "start = time.time()\n",
    "results2 = opt.minimize(LLprob2_B, pmi, args=(mle_args), method = \"BFGS\", bounds=bounds)\n",
    "print(\"Total Algorithm Duration: \",time.time()-start,\"seconds\")\n",
    "print(\"Final Log-Likelyhood    : \",-results2.fun)\n",
    "print(\"   \")\n",
    "mumle, sigmamle, rhomle, alphamle  = results2.x\n",
    "print(\"Mu (MLE)    :\",mumle)\n",
    "print(\"Sigma (MLE) :\",sigmamle)\n",
    "print(\"Rho (MLE)   :\",rhomle)\n",
    "print(\"Alpha (MLE) :\",alphamle)\n",
    "print(results2.hess_inv)"
   ]
  },
  {
   "cell_type": "markdown",
   "metadata": {},
   "source": [
    "Part C:"
   ]
  },
  {
   "cell_type": "code",
   "execution_count": 51,
   "metadata": {},
   "outputs": [
    {
     "name": "stdout",
     "output_type": "stream",
     "text": [
      "0.22584991277\n"
     ]
    }
   ],
   "source": [
    "mu_g,sigma_g,rho_g,alpha_g = results.x\n",
    "\n",
    "z_m1 = 10\n",
    "\n",
    "def C_func(alpha,k,r):\n",
    "    return np.log(r/((alpha)*(k**(alpha - 1))))\n",
    "\n",
    "zstar = C_func(alpha_g,75000000,1)\n",
    "zt    = rho_g * z_m1 + (1 - rho_g) * mu_g\n",
    "zdiff = zstar - zt\n",
    "prob = 1 - st.norm.cdf(zdiff)\n",
    "print(prob)"
   ]
  },
  {
   "cell_type": "code",
   "execution_count": null,
   "metadata": {
    "collapsed": true
   },
   "outputs": [],
   "source": []
  }
 ],
 "metadata": {
  "kernelspec": {
   "display_name": "Python 3",
   "language": "python",
   "name": "python3"
  },
  "language_info": {
   "codemirror_mode": {
    "name": "ipython",
    "version": 3
   },
   "file_extension": ".py",
   "mimetype": "text/x-python",
   "name": "python",
   "nbconvert_exporter": "python",
   "pygments_lexer": "ipython3",
   "version": "3.6.1"
  }
 },
 "nbformat": 4,
 "nbformat_minor": 2
}
