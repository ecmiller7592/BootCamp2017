{
 "cells": [
  {
   "cell_type": "code",
   "execution_count": 2,
   "metadata": {
    "collapsed": true
   },
   "outputs": [],
   "source": [
    "import numpy as np\n",
    "import matplotlib.pyplot as plt\n",
    "import scipy.special as ss\n",
    "import scipy.optimize as opt\n",
    "import scipy.integrate as intgr\n",
    "import time\n",
    "import scipy.stats as sts\n",
    "\n",
    "clms = np.loadtxt(\"clms.txt\")"
   ]
  },
  {
   "cell_type": "markdown",
   "metadata": {},
   "source": [
    "Part A:"
   ]
  },
  {
   "cell_type": "code",
   "execution_count": 3,
   "metadata": {
    "scrolled": false
   },
   "outputs": [
    {
     "name": "stdout",
     "output_type": "stream",
     "text": [
      "CLMS Mean               : 720.277975327\n",
      "CLMS Median             : 172.21\n",
      "CLMS Minimum            : 0.01\n",
      "CLMS Maximum            : 227967.25\n",
      "CLMS Standard Deviation : 3972.66375639\n"
     ]
    },
    {
     "data": {
      "image/png": "[encoded data removed]",
      "text/plain": [
       "<matplotlib.figure.Figure at 0x25d2350dbe0>"
      ]
     },
     "metadata": {},
     "output_type": "display_data"
    },
    {
     "data": {
      "image/png": "[encoded data removed]",
      "text/plain": [
       "<matplotlib.figure.Figure at 0x25d235a4438>"
      ]
     },
     "metadata": {},
     "output_type": "display_data"
    }
   ],
   "source": [
    "print(\"CLMS Mean               :\",clms.mean())\n",
    "print(\"CLMS Median             :\",np.median(clms))\n",
    "print(\"CLMS Minimum            :\",clms.min())\n",
    "print(\"CLMS Maximum            :\",clms.max())\n",
    "print(\"CLMS Standard Deviation :\",clms.std())\n",
    "\n",
    "\n",
    "weights = np.ones_like(clms)/float(len(clms))\n",
    "weightz = np.ones_like(clms[clms<800])/float(len(clms))\n",
    "\n",
    "plt.hist(clms,bins=1000,weights=weights)\n",
    "plt.show()\n",
    "\n",
    "plt.hist(clms[clms < 800],bins=100,weights=weightz)\n",
    "plt.show()"
   ]
  },
  {
   "cell_type": "markdown",
   "metadata": {},
   "source": [
    "Part B:"
   ]
  },
  {
   "cell_type": "code",
   "execution_count": 6,
   "metadata": {},
   "outputs": [],
   "source": [
    "def gamma(x,a,B):\n",
    "    r = (1/(B**a * ss.gamma(a))) * (x**(a-1)) * np.exp(-(x/B))\n",
    "    return r\n",
    "\n",
    "def MLEprob1B(params,data):\n",
    "    alpha,beta = params\n",
    "    pdf_vals = gamma(clms,alpha,beta)\n",
    "    ln_pdf_vals = np.log(pdf_vals)\n",
    "    log_lik_val = ln_pdf_vals.sum()\n",
    "    return -log_lik_val"
   ]
  },
  {
   "cell_type": "code",
   "execution_count": 7,
   "metadata": {
    "scrolled": false
   },
   "outputs": [
    {
     "name": "stdout",
     "output_type": "stream",
     "text": [
      "Total Algorithm Duration:  0.041108131408691406 seconds\n",
      "Final Log-Likelyhood    :  -82076.4516057\n",
      "   \n",
      "Alpha (MLE) : 0.221755309875\n",
      "Beta (MLE)  : 21911.0646993\n"
     ]
    }
   ],
   "source": [
    "beta_0 = (clms.std())**2 / clms.mean()\n",
    "alpha_0 =  clms.mean() / beta_0\n",
    "mle_params = np.array([alpha_0,beta_0])\n",
    "mle_args = (clms)\n",
    "\n",
    "bounds = ((1e-10,None),(1e-10,None))\n",
    "start1b = time.time()\n",
    "results1b = opt.minimize(MLEprob1B, mle_params, args=(mle_args), bounds=bounds)\n",
    "print(\"Total Algorithm Duration: \",time.time()-start1b,\"seconds\")\n",
    "print(\"Final Log-Likelyhood    : \",-results1b.fun)\n",
    "print(\"   \")\n",
    "alphamleb, betamleb  = results1b.x\n",
    "print(\"Alpha (MLE) :\",alphamleb)\n",
    "print(\"Beta (MLE)  :\",betamleb)"
   ]
  },
  {
   "cell_type": "code",
   "execution_count": 8,
   "metadata": {},
   "outputs": [
    {
     "data": {
      "image/png": "[encoded data removed]",
      "text/plain": [
       "<matplotlib.figure.Figure at 0x25d26f4cc88>"
      ]
     },
     "metadata": {},
     "output_type": "display_data"
    }
   ],
   "source": [
    "clms_sorted = np.array(sorted(clms))\n",
    "\n",
    "plt.hist(clms[clms < 800],bins=100,weights=weightz)\n",
    "plt.plot(clms_sorted[clms_sorted < 800],20*gamma(clms_sorted[clms_sorted < 800],alphamleb,betamleb))\n",
    "plt.axis([-10,800,0,0.05])\n",
    "plt.title(\"Graph for CLMS Data < 800\")\n",
    "plt.show()"
   ]
  },
  {
   "cell_type": "markdown",
   "metadata": {},
   "source": [
    "Part C"
   ]
  },
  {
   "cell_type": "code",
   "execution_count": 9,
   "metadata": {
    "collapsed": true
   },
   "outputs": [],
   "source": [
    "def GG(x,a,B,m):\n",
    "    r = (m/(B**a * ss.gamma(a/m))) * (x**(a-1)) * np.exp(-(x/B)**m)\n",
    "    return r\n",
    "\n",
    "def MLEprob1C(params,data):\n",
    "    alpha,beta,m = params\n",
    "    pdf_vals = GG(clms,alpha,beta,m)\n",
    "    ln_pdf_vals = np.log(pdf_vals)\n",
    "    log_lik_val = ln_pdf_vals.sum()\n",
    "    return -log_lik_val"
   ]
  },
  {
   "cell_type": "code",
   "execution_count": 10,
   "metadata": {},
   "outputs": [
    {
     "name": "stdout",
     "output_type": "stream",
     "text": [
      "Total Algorithm Duration:  0.15393614768981934 seconds\n",
      "Final Log-Likelyhood    :  -82076.4464629\n",
      "   \n",
      "Alpha (MLE) : 0.221753908911\n",
      "Beta (MLE)  : 21911.0643635\n",
      "m (MLE)  : 0.997682094773\n"
     ]
    }
   ],
   "source": [
    "beta_0 = (clms.std())**2 / clms.mean()\n",
    "alpha_0 =  clms.mean() / beta_0\n",
    "m_0 = 1\n",
    "mle_paramsC = np.array([alpha_0,beta_0,m_0])\n",
    "mle_argsC = (clms)\n",
    "\n",
    "boundsC = ((1e-10,None),(1e-10,None),(1e-10,None))\n",
    "start1c = time.time()\n",
    "results1c = opt.minimize(MLEprob1C, mle_paramsC, args=(mle_argsC), bounds=boundsC)\n",
    "print(\"Total Algorithm Duration: \",time.time()-start1c,\"seconds\")\n",
    "print(\"Final Log-Likelyhood    : \",-results1c.fun)\n",
    "print(\"   \")\n",
    "alphamlec, betamlec, mmlec  = results1c.x\n",
    "print(\"Alpha (MLE) :\",alphamlec)\n",
    "print(\"Beta (MLE)  :\",betamlec)\n",
    "print(\"m (MLE)  :\",mmlec)"
   ]
  },
  {
   "cell_type": "code",
   "execution_count": 11,
   "metadata": {},
   "outputs": [
    {
     "data": {
      "image/png": "[encoded data removed]",
      "text/plain": [
       "<matplotlib.figure.Figure at 0x25d285a67b8>"
      ]
     },
     "metadata": {},
     "output_type": "display_data"
    }
   ],
   "source": [
    "clms_sorted = np.array(sorted(clms))\n",
    "\n",
    "plt.hist(clms[clms < 800],bins=100,weights=weightz)\n",
    "plt.plot(clms_sorted[clms_sorted < 800],20*GG(clms_sorted[clms_sorted < 800],alphamlec,betamlec,mmlec))\n",
    "plt.axis([-10,800,0,0.05])\n",
    "plt.title(\"Graph for CLMS Data < 800\")\n",
    "plt.show()"
   ]
  },
  {
   "cell_type": "markdown",
   "metadata": {},
   "source": [
    "Part D"
   ]
  },
  {
   "cell_type": "code",
   "execution_count": 12,
   "metadata": {
    "collapsed": true
   },
   "outputs": [],
   "source": [
    "def GB2(x,a,B,p,q):\n",
    "    r = (a*x**(a*p-1)) / ((B**(a*p))*ss.beta(p,q)*((1 + (x/B)**a)**(p + q)))\n",
    "    return r\n",
    "\n",
    "def MLEprob1D(params,data):\n",
    "    alpha,beta,p,q = params\n",
    "    pdf_vals = GB2(clms,alpha,beta,p,q)\n",
    "    ln_pdf_vals = np.log(pdf_vals)\n",
    "    log_lik_val = ln_pdf_vals.sum()\n",
    "    return -log_lik_val"
   ]
  },
  {
   "cell_type": "code",
   "execution_count": 13,
   "metadata": {},
   "outputs": [
    {
     "name": "stdout",
     "output_type": "stream",
     "text": [
      "Total Algorithm Duration:  1.1018970012664795 seconds\n",
      "Final Log-Likelyhood    :  -74863.0143388\n",
      "   \n",
      "Alpha (MLE) : 0.118077523098\n",
      "Beta (MLE)  : 21911.0483957\n",
      "p (MLE)  : 50.2753094777\n",
      "q (MLE)  : 87.9196971169\n"
     ]
    }
   ],
   "source": [
    "beta_0 = ((clms.std())**2) / clms.mean()\n",
    "alpha_0 =  clms.mean() / beta_0\n",
    "p_0 = 1\n",
    "q_0 = 10\n",
    "mle_paramsD = np.array([alpha_0,beta_0,p_0,q_0])\n",
    "mle_argsD = (clms)\n",
    "\n",
    "boundsD = ((1e-10,None),(1e-10,None),(1e-10,None),(1e-10,None))\n",
    "start1d = time.time()\n",
    "results1d = opt.minimize(MLEprob1D, mle_paramsD, args=(mle_argsD), bounds=boundsD)\n",
    "print(\"Total Algorithm Duration: \",time.time()-start1d,\"seconds\")\n",
    "print(\"Final Log-Likelyhood    : \",-results1d.fun)\n",
    "print(\"   \")\n",
    "alphamled, betamled, pmled, qmled  = results1d.x\n",
    "print(\"Alpha (MLE) :\",alphamled)\n",
    "print(\"Beta (MLE)  :\",betamled)\n",
    "print(\"p (MLE)  :\",pmled)\n",
    "print(\"q (MLE)  :\",qmled)"
   ]
  },
  {
   "cell_type": "code",
   "execution_count": 14,
   "metadata": {},
   "outputs": [
    {
     "data": {
      "image/png": "[encoded data removed]",
      "text/plain": [
       "<matplotlib.figure.Figure at 0x25d272ec828>"
      ]
     },
     "metadata": {},
     "output_type": "display_data"
    }
   ],
   "source": [
    "clms_sorted = np.array(sorted(clms))\n",
    "\n",
    "plt.hist(clms[clms < 800],bins=100,weights=weightz)\n",
    "plt.plot(clms_sorted[clms_sorted < 800],8*GB2(clms_sorted[clms_sorted < 800],alphamled,betamled,pmled,qmled))\n",
    "plt.axis([-10,800,0,0.05])\n",
    "plt.title(\"Graph for CLMS Data < 800\")\n",
    "plt.show()"
   ]
  },
  {
   "cell_type": "markdown",
   "metadata": {},
   "source": [
    "Part E"
   ]
  },
  {
   "cell_type": "code",
   "execution_count": 20,
   "metadata": {},
   "outputs": [
    {
     "name": "stdout",
     "output_type": "stream",
     "text": [
      "chi squared of H0 with 2 degrees of freedom p-value =  0.0\n",
      "chi squared of H0 with 2 degrees of freedom p-value =  0.0\n"
     ]
    }
   ],
   "source": [
    "GB2_params = np.array([alphamled,betamled,pmled,qmled])\n",
    "BB_params  = np.array([alphamlec,betamlec,mmlec])\n",
    "GG_params  = np.array([alphamleb,betamleb])\n",
    "\n",
    "log_lik_h0 = MLEprob1D(GB2_params,clms)\n",
    "log_lik_BB = MLEprob1C(BB_params,clms)\n",
    "log_lik_GG = MLEprob1B(GG_params,clms)\n",
    "\n",
    "LR_val_1 = 2 * (log_lik_BB - log_lik_h0)\n",
    "pval_h0_1 = 1.0 - sts.chi2.cdf(LR_val_1, 2)\n",
    "print('chi squared of H0 with 2 degrees of freedom p-value = ', pval_h0_1)\n",
    "\n",
    "LR_val_2 = 2 * (log_lik_GG - log_lik_h0)\n",
    "pval_h0_2 = 1.0 - sts.chi2.cdf(LR_val_2, 2)\n",
    "print('chi squared of H0 with 2 degrees of freedom p-value = ', pval_h0_2)"
   ]
  },
  {
   "cell_type": "markdown",
   "metadata": {
    "collapsed": true
   },
   "source": [
    "Part F"
   ]
  },
  {
   "cell_type": "code",
   "execution_count": 23,
   "metadata": {},
   "outputs": [
    {
     "name": "stdout",
     "output_type": "stream",
     "text": [
      "Value (GB2) : 0.13084089245261177\n",
      "Value (GG)  : 0.4519243940233123\n"
     ]
    }
   ],
   "source": [
    "Ffunc = lambda x: GB2(x,alphamled,betamled,pmled,qmled)\n",
    "Ffnc  = lambda x: GG(x,alphamlec,betamlec,mmlec)\n",
    "GB2_val,gb2err = intgr.quad(Ffunc,0,1000)\n",
    "GG_val,ggerr   = intgr.quad(Ffnc,0,1000)\n",
    "print(\"Value (GB2) :\",1-GB2_val)\n",
    "print(\"Value (GG)  :\",1-GG_val)"
   ]
  },
  {
   "cell_type": "code",
   "execution_count": null,
   "metadata": {
    "collapsed": true
   },
   "outputs": [],
   "source": []
  }
 ],
 "metadata": {
  "kernelspec": {
   "display_name": "Python 3",
   "language": "python",
   "name": "python3"
  },
  "language_info": {
   "codemirror_mode": {
    "name": "ipython",
    "version": 3
   },
   "file_extension": ".py",
   "mimetype": "text/x-python",
   "name": "python",
   "nbconvert_exporter": "python",
   "pygments_lexer": "ipython3",
   "version": "3.6.1"
  }
 },
 "nbformat": 4,
 "nbformat_minor": 2
}
