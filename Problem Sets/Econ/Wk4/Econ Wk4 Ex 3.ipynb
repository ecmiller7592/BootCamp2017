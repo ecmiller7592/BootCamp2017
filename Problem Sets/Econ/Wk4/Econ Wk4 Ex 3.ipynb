{
 "cells": [
  {
   "cell_type": "code",
   "execution_count": 10,
   "metadata": {
    "collapsed": true
   },
   "outputs": [],
   "source": [
    "import numpy as np\n",
    "import matplotlib.pyplot as plt\n",
    "import scipy.special as ss\n",
    "import scipy.optimize as opt\n",
    "import scipy.integrate as intgr\n",
    "import time"
   ]
  },
  {
   "cell_type": "markdown",
   "metadata": {},
   "source": [
    "Part A"
   ]
  },
  {
   "cell_type": "code",
   "execution_count": 11,
   "metadata": {},
   "outputs": [
    {
     "data": {
      "image/png": "[encoded data removed]",
      "text/plain": [
       "<matplotlib.figure.Figure at 0x1f2c984a748>"
      ]
     },
     "metadata": {},
     "output_type": "display_data"
    }
   ],
   "source": [
    "data = np.loadtxt(\"usincmoms.txt\")\n",
    "\n",
    "plt.bar(data[:40,1]/1000,data[:40,0],width=5,color='b')\n",
    "plt.bar(data[40,1]/1000,data[40,0]/10,width=50,color='b')\n",
    "plt.bar(data[41,1]/1000,data[41,0]/20,width=100,color='b')\n",
    "plt.show()"
   ]
  },
  {
   "cell_type": "markdown",
   "metadata": {
    "collapsed": true
   },
   "source": [
    "Part B"
   ]
  },
  {
   "cell_type": "code",
   "execution_count": 12,
   "metadata": {
    "collapsed": true
   },
   "outputs": [],
   "source": [
    "def lognormal(x,mu,sigma):\n",
    "    r = (1/(x*sigma*np.sqrt(2*np.pi)))*np.exp(-(((np.log(x)-mu)**2)/(2*sigma**2)))\n",
    "    return r\n",
    "\n",
    "def gamma(x,a,B):\n",
    "    r = (1/(B**a * ss.gamma(a))) * (x**(a-1)) * np.exp(-(x/B))\n",
    "    return r\n",
    "\n",
    "def model_moments(lnormal, data, mu, sigma):\n",
    "    xfx = lambda x: lnormal(x, mu, sigma)\n",
    "    vec = np.zeros(len(data))\n",
    "    for i in range(len(data)-2):\n",
    "        (vec[i],err) = intgr.quad(xfx,data[i,1]-2499.9999,data[i,1]+2499.9999)\n",
    "    vec[len(data)-2],err2  = intgr.quad(xfx,data[len(data)-2,1]-24999.9999,data[len(data)-2,1]+24999.9999)\n",
    "    vec[len(data)-1],err3  = intgr.quad(xfx,data[len(data)-1,1]-49999.9999,data[len(data)-1,1]+49999.9999)\n",
    "    return vec"
   ]
  },
  {
   "cell_type": "code",
   "execution_count": 13,
   "metadata": {},
   "outputs": [
    {
     "name": "stdout",
     "output_type": "stream",
     "text": [
      "Total Iteration Time (Lognorm) : 1.5589227676391602 seconds\n",
      "   \n",
      "Final Min. Value (Lognorm)    : 90517.8354075\n",
      "Final Mu Value (Lognorm)      : 10.8190203771\n",
      "Final Sigma Value (Lognorm)   : 0.842764342905\n"
     ]
    },
    {
     "data": {
      "image/png": "[encoded data removed]",
      "text/plain": [
       "<matplotlib.figure.Figure at 0x1f2cd948ef0>"
      ]
     },
     "metadata": {},
     "output_type": "display_data"
    }
   ],
   "source": [
    "W = np.diag(data[:,1])\n",
    "\n",
    "mu_i = 10 #np.log(np.mean(data[:,0]))\n",
    "sigma_i = 15\n",
    "pmi = np.array([mu_i, sigma_i])\n",
    "\n",
    "def GMM(params,data,f,W):\n",
    "    mu,sigma = params\n",
    "    \n",
    "    moms_data = data[:,0]\n",
    "    moms_model= model_moments(f,data,mu,sigma)\n",
    "    e_m = (moms_model - moms_data) / moms_data\n",
    "    crit = e_m.T @ W @ e_m\n",
    "    return crit\n",
    "\n",
    "gmm_args = (data,lognormal,W)\n",
    "\n",
    "start = time.time()\n",
    "result = opt.minimize(GMM,pmi,args=(gmm_args),method=\"L-BFGS-B\",bounds=((None, None), (1e-10, None)))\n",
    "print(\"Total Iteration Time (Lognorm) :\",time.time()-start,\"seconds\")\n",
    "print(\"   \")\n",
    "print(\"Final Min. Value (Lognorm)    :\",result.fun)\n",
    "print(\"Final Mu Value (Lognorm)      :\",result.x[0])\n",
    "print(\"Final Sigma Value (Lognorm)   :\",result.x[1])\n",
    "\n",
    "plt.bar(data[:40,1]/1000,data[:40,0],width=5,color='b')\n",
    "plt.bar(data[40,1]/1000,data[40,0]/10,width=50,color='b')\n",
    "plt.bar(data[41,1]/1000,data[41,0]/20,width=100,color='b')\n",
    "plt.plot(data[:,1]/1000,4500*lognormal(data[:,1],result.x[0],result.x[1]),color='m')\n",
    "plt.show()"
   ]
  },
  {
   "cell_type": "markdown",
   "metadata": {},
   "source": [
    "Part C: Estimate w/ gamma distribution"
   ]
  },
  {
   "cell_type": "code",
   "execution_count": 9,
   "metadata": {},
   "outputs": [
    {
     "name": "stdout",
     "output_type": "stream",
     "text": [
      "Total Iteration Time (Gamma) : 448.9721691608429 seconds\n",
      "   \n",
      "Final Min. Value (Gamma)    : 134868.861735\n",
      "Final Alpha Value (Gamma)   : 1.16705601323\n",
      "Final Beta Value (Gamma)    : 53282.5777765\n"
     ]
    },
    {
     "data": {
      "image/png": "[encoded data removed]",
      "text/plain": [
       "<matplotlib.figure.Figure at 0x1f2cb7d59e8>"
      ]
     },
     "metadata": {},
     "output_type": "display_data"
    }
   ],
   "source": [
    "B0 = 20000\n",
    "a0 = 3\n",
    "pmi2 = np.array([a0, B0])\n",
    "\n",
    "gmm_args2 = (data,gamma,W)\n",
    "\n",
    "start2 = time.time()\n",
    "result2 = opt.minimize(GMM,pmi2,args=(gmm_args2),method=\"L-BFGS-B\",bounds=((1e-10, None), (1e-10, None)))\n",
    "print(\"Total Iteration Time (Gamma) :\",time.time()-start2,\"seconds\")\n",
    "print(\"   \")\n",
    "print(\"Final Min. Value (Gamma)    :\",result2.fun)\n",
    "print(\"Final Alpha Value (Gamma)   :\",result2.x[0])\n",
    "print(\"Final Beta Value (Gamma)    :\",result2.x[1])\n",
    "\n",
    "plt.bar(data[:40,1]/1000,data[:40,0],width=5,color='b')\n",
    "plt.bar(data[40,1]/1000,data[40,0]/10,width=50,color='b')\n",
    "plt.bar(data[41,1]/1000,data[41,0]/20,width=100,color='b')\n",
    "plt.plot(data[:,1]/1000,4800*gamma(data[:,1],result2.x[0],result.x[1]),color='m')\n",
    "plt.show()\n"
   ]
  },
  {
   "cell_type": "markdown",
   "metadata": {
    "collapsed": true
   },
   "source": [
    "Part D"
   ]
  },
  {
   "cell_type": "code",
   "execution_count": 19,
   "metadata": {
    "scrolled": false
   },
   "outputs": [
    {
     "data": {
      "image/png": "[encoded data removed]",
      "text/plain": [
       "<matplotlib.figure.Figure at 0x1f2cdea12e8>"
      ]
     },
     "metadata": {},
     "output_type": "display_data"
    }
   ],
   "source": [
    "plt.bar(data[:40,1]/1000,data[:40,0],width=5,color='k')\n",
    "plt.bar(data[40,1]/1000,data[40,0]/10,width=50,color='k')\n",
    "plt.bar(data[41,1]/1000,data[41,0]/20,width=100,color='k')\n",
    "plt.plot(data[:,1]/1000,4800*gamma(data[:,1],result2.x[0],result2.x[1]),color='b')\n",
    "plt.plot(data[:,1]/1000,4500*lognormal(data[:,1],result.x[0],result.x[1]),color='r')\n",
    "plt.title(\"Log-normal vs Gamma, Income Data\")\n",
    "plt.ylabel(\"Frequency\")\n",
    "plt.xlabel(\"Income in Thousands of USD\")\n",
    "plt.show()"
   ]
  },
  {
   "cell_type": "markdown",
   "metadata": {},
   "source": [
    "Part E"
   ]
  },
  {
   "cell_type": "code",
   "execution_count": 50,
   "metadata": {},
   "outputs": [
    {
     "name": "stdout",
     "output_type": "stream",
     "text": [
      "[  1.37434816e+00   4.62118357e+04]\n",
      "[[  1.34214432e+17  -1.38103302e+17  -1.11791553e+17 ...,  -2.45094206e+16\n",
      "    5.60206661e+16  -3.45187504e+15]\n",
      " [  1.29187169e+17  -1.48215831e+17  -1.00488080e+17 ...,  -5.94233061e+16\n",
      "    7.53568743e+16   3.43322982e+16]\n",
      " [ -6.32909207e+16   6.56792168e+16   1.05395209e+17 ...,  -2.14237547e+17\n",
      "   -1.23182211e+16   9.24546792e+16]\n",
      " ..., \n",
      " [  1.22347876e+17  -1.20149383e+17  -2.30031952e+16 ...,  -5.73233346e+16\n",
      "    6.60191026e+16   5.35468762e+16]\n",
      " [  1.31569349e+16  -2.16549213e+16  -7.63808370e+16 ...,   1.72117859e+17\n",
      "    2.73293721e+16  -1.31143838e+16]\n",
      " [ -1.13831291e+17   8.99628087e+16   5.64995200e+16 ...,   3.54935002e+16\n",
      "   -4.12540209e+16  -7.33174350e+16]]\n"
     ]
    }
   ],
   "source": [
    "gmm_args_w = (data,gamma,np.eye(len(data)))\n",
    "r_w = opt.minimize(GMM,pmi2,args=(gmm_args_w),method=\"L-BFGS-B\",bounds=((1e-10, None), (1e-10, None)))\n",
    "print(r_w.x)\n",
    "e_vec = model_moments(gamma,data,r_w.x[0],r_w.x[1])\n",
    "e_m = (e_vec - data[:,1]) / data[:,1]\n",
    "Omega = np.outer(e_m , e_m)/len(data)\n",
    "W_2step = np.linalg.inv(Omega)\n",
    "print(W_2step)"
   ]
  },
  {
   "cell_type": "markdown",
   "metadata": {},
   "source": [
    "We now calculate the model with our new 2-Step W matrix"
   ]
  },
  {
   "cell_type": "code",
   "execution_count": 55,
   "metadata": {},
   "outputs": [
    {
     "name": "stdout",
     "output_type": "stream",
     "text": [
      "Total Iteration Time (Gamma) : 0.9354832172393799 seconds\n",
      "   \n",
      "Final Min. Value (Gamma)    : -1.18299108027e+17\n",
      "Final Alpha Value (Gamma)   : 3.36479991247\n",
      "Final Beta Value (Gamma)    : 19272.9173836\n"
     ]
    }
   ],
   "source": [
    "B0 = 20000\n",
    "a0 = 3\n",
    "pmi3 = np.array([a0, B0])\n",
    "\n",
    "gmm_args3 = (data,gamma,W_2step)\n",
    "\n",
    "start3 = time.time()\n",
    "result3 = opt.minimize(GMM,pmi3,args=(gmm_args3),method=\"L-BFGS-B\",bounds=((1e-10, None), (1e-10, None)))\n",
    "print(\"Total Iteration Time (Gamma) :\",time.time()-start3,\"seconds\")\n",
    "print(\"   \")\n",
    "print(\"Final Min. Value (Gamma)    :\",result3.fun)\n",
    "print(\"Final Alpha Value (Gamma)   :\",result3.x[0])\n",
    "print(\"Final Beta Value (Gamma)    :\",result3.x[1])"
   ]
  },
  {
   "cell_type": "code",
   "execution_count": null,
   "metadata": {
    "collapsed": true
   },
   "outputs": [],
   "source": []
  }
 ],
 "metadata": {
  "kernelspec": {
   "display_name": "Python 3",
   "language": "python",
   "name": "python3"
  },
  "language_info": {
   "codemirror_mode": {
    "name": "ipython",
    "version": 3
   },
   "file_extension": ".py",
   "mimetype": "text/x-python",
   "name": "python",
   "nbconvert_exporter": "python",
   "pygments_lexer": "ipython3",
   "version": "3.6.1"
  }
 },
 "nbformat": 4,
 "nbformat_minor": 2
}
