{
 "cells": [
  {
   "cell_type": "markdown",
   "metadata": {},
   "source": [
    "## Exercise Set 1 for OSM \n",
    "\n",
    "### Dynamic Programming with John Stachurski"
   ]
  },
  {
   "cell_type": "markdown",
   "metadata": {},
   "source": [
    "This notebook contains the first set of exercises for the [OSM](https://bfi.uchicago.edu/osm) bootcamp dynamic programming section.\n",
    "\n",
    "We will use the following libraries:"
   ]
  },
  {
   "cell_type": "code",
   "execution_count": 1,
   "metadata": {
    "collapsed": true,
    "scrolled": true
   },
   "outputs": [],
   "source": [
    "import numpy as np\n",
    "import matplotlib.pyplot as plt"
   ]
  },
  {
   "cell_type": "markdown",
   "metadata": {},
   "source": [
    "### Exercise 1\n",
    "\n",
    "Consider the data"
   ]
  },
  {
   "cell_type": "code",
   "execution_count": 4,
   "metadata": {},
   "outputs": [
    {
     "name": "stdout",
     "output_type": "stream",
     "text": [
      "[[ -0.89542378]\n",
      " [ 13.3432489 ]\n",
      " [ 45.64145938]]\n"
     ]
    }
   ],
   "source": [
    "A = np.array([[0.6, 0.1, -0.3],\n",
    "     [0.5, -0.4, 0.2],\n",
    "     [1.0, -0.2, 1.1]])\n",
    "\n",
    "b = np.array([[12],\n",
    "     [10],\n",
    "     [-1]])\n",
    "\n",
    "x0 = np.array([[1],\n",
    "     [1],\n",
    "     [1]])\n",
    "\n",
    "A, b = map(np.asarray, (A, b))\n",
    "\n",
    "def f(A,b,x0):\n",
    "    fx = np.dot(A,x0) + b\n",
    "    return fx\n",
    "\n",
    "def solve(A,b,x0):\n",
    "    xt = x0\n",
    "    xt_plus_1 = f(A,b,x0)\n",
    "    \n",
    "    while np.linalg.norm(xt_plus_1 - xt) > 0.0001:\n",
    "        xt = xt_plus_1\n",
    "        xt_plus_1 = f(A,b,xt)\n",
    "    return xt_plus_1\n",
    "\n",
    "sol = solve(A,b,x0)\n",
    "check = np.dot(A,sol) + b - sol\n",
    "print(sol)"
   ]
  },
  {
   "cell_type": "markdown",
   "metadata": {
    "collapsed": true
   },
   "source": [
    "The equation $x = A x + b$ has a unique solution in $\\mathbb R^3$.  Show that this is true by checking the spectral radius condition."
   ]
  },
  {
   "cell_type": "code",
   "execution_count": 3,
   "metadata": {},
   "outputs": [
    {
     "name": "stdout",
     "output_type": "stream",
     "text": [
      "0.965538166352\n"
     ]
    }
   ],
   "source": [
    "from scipy.linalg import eigvals, solve\n",
    "evs = eigvals(A)\n",
    "ρ = max(abs(evs))\n",
    "print(ρ)"
   ]
  },
  {
   "cell_type": "markdown",
   "metadata": {},
   "source": [
    "Compute the solution using both successive approximations --- that is,\n",
    "\n",
    "$$ x_{t+1} = A x_t + b $$\n",
    "\n",
    "and matrix algebra."
   ]
  },
  {
   "cell_type": "code",
   "execution_count": null,
   "metadata": {
    "collapsed": true
   },
   "outputs": [],
   "source": []
  },
  {
   "cell_type": "markdown",
   "metadata": {},
   "source": [
    "### Exercise 2"
   ]
  },
  {
   "cell_type": "markdown",
   "metadata": {},
   "source": [
    "In a standard job search model, an agent \n",
    "\n",
    "\n",
    "* receives offer $w_t$ in period $t$ where $\\{w_t\\}$ is  iid\n",
    "* accepts this offer at time $t$ or remains unemployed\n",
    "    *  if remains unemployed, then receives compensation $c > 0$\n",
    "    * if accepts, then works indefinitely at this wage\n",
    "\n",
    "The agent discounts the future at rate $\\beta \\in (0, 1)$\n",
    "\n",
    "\n",
    "It can be shown that the following is an optimal strategy: \n",
    "\n",
    "* Set a reservation wage $\\bar w$\n",
    "* Accept the first offer $w_t$ such that $w_t \\geq \\bar w$\n",
    "\n",
    "\n",
    "It can also be shown (details omitted) that $\\bar w$ should satisfy\n",
    "\n",
    "$$\n",
    "    \\bar w\n",
    "    = c (1-\\beta) + \\beta\n",
    "    \\sum_{k=1}^K \\max \\left\\{\n",
    "        w_k ,\\, \\bar w\n",
    "    \\right\\}\n",
    "    \\, p_k\n",
    "$$\n",
    "\n",
    "Here \n",
    "\n",
    "* $w_1, \\ldots, w_K$ are the possible wage values, occuring with probabilities $p_1, \\ldots, p_K$\n",
    "* $c > 0$\n",
    "\n",
    "Does there always exists a $x \\in [0, \\infty)$ that solves the equation\n",
    "$$\n",
    "    x\n",
    "    = c (1-\\beta) + \\beta\n",
    "    \\sum_{k=1}^K \\max \\left\\{\n",
    "        w_k ,\\, x\n",
    "    \\right\\}\n",
    "    \\, p_k\n",
    "$$\n",
    "Is it unique?  Suggest a strategy for computing it"
   ]
  },
  {
   "cell_type": "code",
   "execution_count": 6,
   "metadata": {},
   "outputs": [
    {
     "name": "stdout",
     "output_type": "stream",
     "text": [
      "7.47003371634\n",
      "7.47010913092\n"
     ]
    }
   ],
   "source": [
    "W = [1,2,3,4,5,6,7,8,9]\n",
    "P = [0.1,0.2,0.2,0.2,0.1,0.05,0.05,0.05,0.05,]\n",
    "w0 = 6.2\n",
    "c = 5\n",
    "B = 0.96\n",
    "\n",
    "def f2(w0,W,c,B,P):\n",
    "    m_set = [w0 for i in range(len(W))]\n",
    "    in_set = [max(x,y) for x,y in zip(W,m_set)]\n",
    "    fx = c*(1-B) + B*np.dot(in_set,P)\n",
    "    return fx\n",
    "\n",
    "def solve(w0,W,c,B,P):\n",
    "    xt = w0\n",
    "    xt_plus_1 = f2(w0,W,c,B,P)\n",
    "    \n",
    "    while np.linalg.norm(xt_plus_1 - xt) > 0.0001:\n",
    "        xt = xt_plus_1\n",
    "        xt_plus_1 = f2(xt,W,c,B,P)\n",
    "    return xt_plus_1\n",
    "\n",
    "K = solve(w0,W,c,B,P)\n",
    "print(K)\n",
    "print(f2(K,W,c,B,P))"
   ]
  },
  {
   "cell_type": "markdown",
   "metadata": {},
   "source": [
    "#### Hints\n",
    "\n",
    "There are different ways to show this, but I found the following facts useful:\n",
    "\n",
    "*  If $x_1, \\ldots, x_K$ are any $K$ numbers, then\n",
    "\n",
    "$$ \\left| \\sum_{k=1}^K x_k \\right| \\leq \\sum_{k=1}^K |x_k| $$\n",
    "\n",
    "* For any $a, x, y$ in $\\mathbb R$, \n",
    "    \n",
    "$$ \n",
    "    \\left| \n",
    "            \\max \\left\\{ a,\\, x \\right\\} - \\max \\left\\{ a,\\, y \\right\\} \n",
    "        \\right|\n",
    "        \\leq | x - y |\n",
    "$$\n",
    "\n",
    "\n",
    "You can convince yourself of the second inequality by sketching and checking different cases..."
   ]
  },
  {
   "cell_type": "markdown",
   "metadata": {},
   "source": [
    "### Exercise 3"
   ]
  },
  {
   "cell_type": "markdown",
   "metadata": {},
   "source": [
    "Let \n",
    "\n",
    "* $\\beta = 0.96$\n",
    "* $(w_1, w_2, w_3) = (0.5, 1.0, 1.5)$\n",
    "* $(p_1, p_2, p_3) = (0.2, 0.4, 0.4)$\n",
    "\n",
    "Compute and plot the reservation wage for unemployment compensation values"
   ]
  },
  {
   "cell_type": "code",
   "execution_count": 8,
   "metadata": {},
   "outputs": [
    {
     "data": {
      "image/png": "[encoded data removed]",
      "text/plain": [
       "<matplotlib.figure.Figure at 0x272f21d8c18>"
      ]
     },
     "metadata": {},
     "output_type": "display_data"
    }
   ],
   "source": [
    "W = [0.5,1.0,1.5]\n",
    "P = [0.2,0.2,0.4]\n",
    "B = 0.96\n",
    "\n",
    "def f(w0,W,c,B,P):\n",
    "    m_set = [w0 for i in range(len(W))]\n",
    "    in_set = [max(x,y) for x,y in zip(W,m_set)]\n",
    "    fx = c*(1-B) + B*np.dot(in_set,P)\n",
    "    return fx\n",
    "\n",
    "def solve(w0,W,c,B,P):\n",
    "    xt = w0\n",
    "    xt_plus_1 = f2(w0,W,c,B,P)\n",
    "    \n",
    "    while np.linalg.norm(xt_plus_1 - xt) > 0.0001:\n",
    "        xt = xt_plus_1\n",
    "        xt_plus_1 = f2(xt,W,c,B,P)\n",
    "    return xt_plus_1\n",
    "\n",
    "c_vals = np.linspace(1, 2, 100)\n",
    "w_vals = []\n",
    "w0 = 7\n",
    "for i in c_vals:\n",
    "    w_vals.append(solve(w0,W,i,B,P))\n",
    "\n",
    "plt.plot(c_vals,w_vals,color='k')\n",
    "plt.title(\"Consumption vs Realized Reservation Wage\")\n",
    "plt.xlabel(\"Consumption in USD\")\n",
    "plt.ylabel(\"Realized Reservation Wage\")\n",
    "plt.show()"
   ]
  },
  {
   "cell_type": "markdown",
   "metadata": {},
   "source": [
    "Is the reservation wage increasing or decreasing in this value?  Does that coincide with your intuition?"
   ]
  },
  {
   "cell_type": "markdown",
   "metadata": {
    "collapsed": true
   },
   "source": [
    "The reservation wage increases with consumption. As higher rates of consumption requires higher and higher wage values to sustain, this is intuitive."
   ]
  },
  {
   "cell_type": "code",
   "execution_count": null,
   "metadata": {
    "collapsed": true
   },
   "outputs": [],
   "source": []
  }
 ],
 "metadata": {
  "kernelspec": {
   "display_name": "Python 3",
   "language": "python",
   "name": "python3"
  },
  "language_info": {
   "codemirror_mode": {
    "name": "ipython",
    "version": 3
   },
   "file_extension": ".py",
   "mimetype": "text/x-python",
   "name": "python",
   "nbconvert_exporter": "python",
   "pygments_lexer": "ipython3",
   "version": "3.6.1"
  }
 },
 "nbformat": 4,
 "nbformat_minor": 2
}
