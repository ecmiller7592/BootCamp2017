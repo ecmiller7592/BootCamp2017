{
 "cells": [
  {
   "cell_type": "code",
   "execution_count": 72,
   "metadata": {
    "collapsed": true
   },
   "outputs": [],
   "source": [
    "import numpy as np\n",
    "import time\n",
    "import matplotlib.pyplot as plt\n",
    "import numpy.linalg as la\n",
    "\n",
    "def converge(f,x):\n",
    "    h,e,t,tol,it_count = 1,1,0,0.00000001,500\n",
    "    while e > tol and t < it_count:\n",
    "        e = f(x+h) - f(x)\n",
    "        v = e/h\n",
    "        h = 0.5*h\n",
    "        t = t + 1\n",
    "    if t >= it_count:\n",
    "        return \"Derivative couldn't be computed\"\n",
    "    return v"
   ]
  },
  {
   "cell_type": "code",
   "execution_count": 73,
   "metadata": {},
   "outputs": [
    {
     "data": {
      "image/png": "[encoded data removed]",
      "text/plain": [
       "<matplotlib.figure.Figure at 0x22865ba5c50>"
      ]
     },
     "metadata": {},
     "output_type": "display_data"
    }
   ],
   "source": [
    "def f(x):\n",
    "    return np.exp(x) -4*x\n",
    "\n",
    "grid = np.linspace(0,3,1000)\n",
    "fgrid = [f(x) for x in grid]\n",
    "plt.plot(grid,fgrid)\n",
    "plt.title(\"Visual Representation of Minimal Value\")\n",
    "plt.show()"
   ]
  },
  {
   "cell_type": "markdown",
   "metadata": {},
   "source": [
    "Question #1"
   ]
  },
  {
   "cell_type": "code",
   "execution_count": 77,
   "metadata": {},
   "outputs": [
    {
     "name": "stdout",
     "output_type": "stream",
     "text": [
      "(1.3862943787618156, 1.3862943788681183)\n",
      "1.3862943788149669\n",
      "Took  0.0010030269622802734  seconds\n"
     ]
    }
   ],
   "source": [
    "def prob1(f,a,b,n):\n",
    "    p = 0.382\n",
    "    for i in range(n):\n",
    "        ap = a + p*(b - a)\n",
    "        bp = a + (1 - p)*(b - a)\n",
    "        if f(ap) >= f(bp):\n",
    "            a,b = ap,b\n",
    "        else:\n",
    "            a,b = a,bp\n",
    "    result = (a + b)/2\n",
    "    return (a,b),result\n",
    "\n",
    "start = time.time()\n",
    "interval, result = prob1(f,0,3,50)\n",
    "print(interval)\n",
    "print(result)\n",
    "print(\"Took \",time.time()-start,\" seconds\")"
   ]
  },
  {
   "cell_type": "markdown",
   "metadata": {
    "collapsed": true
   },
   "source": [
    "Question #2"
   ]
  },
  {
   "cell_type": "code",
   "execution_count": 44,
   "metadata": {},
   "outputs": [
    {
     "name": "stdout",
     "output_type": "stream",
     "text": [
      "(1.3862333253428645, 1.3862333253428671)\n",
      "1.3862333253428658\n",
      "Took  0.003007650375366211  seconds\n"
     ]
    }
   ],
   "source": [
    "def prob2(f,a,b,n):\n",
    "    for i in range(n):\n",
    "        m = (a + b)/2\n",
    "        s = converge(f,m)\n",
    "        if s > 0:\n",
    "            a,b = a,m\n",
    "        else:\n",
    "            a,b = m,b\n",
    "    result = (a + b)/2\n",
    "    return (a,b),result\n",
    "\n",
    "start = time.time()\n",
    "interval, result = prob2(f,0,3,50)\n",
    "print(interval)\n",
    "print(result)\n",
    "print(\"Took \",time.time()-start,\" seconds\")\n",
    "# Note: this takes much longer as written, but if the closed form for f'(x) is directly plugged in it takes less than prob1."
   ]
  },
  {
   "cell_type": "markdown",
   "metadata": {},
   "source": [
    "Problem #3"
   ]
  },
  {
   "cell_type": "code",
   "execution_count": 60,
   "metadata": {},
   "outputs": [
    {
     "name": "stdout",
     "output_type": "stream",
     "text": [
      "Result (x0 = 0): -1.4473142258\n",
      "Time Taken:  0.0015041828155517578 seconds\n",
      "Iterations: 46\n",
      "--------------------------------------------------------------------------\n",
      "Result (x0 = 10): Did Not Converge\n",
      "Time Taken:  0.004014730453491211 seconds\n",
      "Iterations: 500\n",
      "--------------------------------------------------------------------------\n",
      "Result (x0 = 10): Did Not Converge\n",
      "Time Taken:  0.004011392593383789 seconds\n",
      "Iterations: 500\n"
     ]
    }
   ],
   "source": [
    "g = lambda x: x**2 + np.sin(5*x)\n",
    "g1= lambda x: 2*x  + 5*np.cos(5*x)\n",
    "g2= lambda x: 2 - 25*np.sin(5*x)\n",
    "\n",
    "def prob3(g,g1,g2,x0):\n",
    "    tol = 0.0001\n",
    "    n = 500\n",
    "    t = 0\n",
    "    x = x0 - (g1(x0) / g2(x0))\n",
    "    while abs(x - x0) > tol and t < n:\n",
    "        x0 = x.copy()\n",
    "        x = x0 - (g1(x0) / g2(x0))\n",
    "        t = t + 1\n",
    "    if t >= n:\n",
    "        x = \"Did Not Converge\"\n",
    "    return x,t\n",
    "\n",
    "start = time.time()\n",
    "result,its = prob3(g,g1,g2,0)\n",
    "print(\"Result (x0 = 0):\",result)\n",
    "print(\"Time Taken: \",time.time()-start,\"seconds\")\n",
    "print(\"Iterations:\",its)\n",
    "print(\"--------------------------------------------------------------------------\")\n",
    "start2 = time.time()\n",
    "result2,its2 = prob3(g,g1,g2,10)\n",
    "print(\"Result (x0 = 10):\",result2)\n",
    "print(\"Time Taken: \",time.time()-start2,\"seconds\")\n",
    "print(\"Iterations:\",its2)\n",
    "print(\"--------------------------------------------------------------------------\")\n",
    "start22 = time.time()\n",
    "result22,its22 = prob3(g,g1,g2,-10)\n",
    "print(\"Result (x0 = 10):\",result22)\n",
    "print(\"Time Taken: \",time.time()-start22,\"seconds\")\n",
    "print(\"Iterations:\",its22)"
   ]
  },
  {
   "cell_type": "markdown",
   "metadata": {},
   "source": [
    "Question #4"
   ]
  },
  {
   "cell_type": "code",
   "execution_count": 69,
   "metadata": {},
   "outputs": [
    {
     "name": "stdout",
     "output_type": "stream",
     "text": [
      "Result (x0 = 0, x1 = -1): -0.163677218465\n",
      "Time Taken:  0.0010023117065429688 seconds\n",
      "Iterations: 7\n",
      "--------------------------------------------------------------------------\n",
      "Result (x0 = 0, x1 = -10): -1.38749008336\n",
      "Time Taken:  0.0010023117065429688 seconds\n",
      "Iterations: 15\n",
      "--------------------------------------------------------------------------\n",
      "Result (x0 = 4, x1 = -1): 1.69460850437\n",
      "Time Taken:  0.0 seconds\n",
      "Iterations: 8\n"
     ]
    }
   ],
   "source": [
    "h = lambda x: x**2 + np.sin(x) + np.sin(10*x)\n",
    "h1= lambda x: 2*x  + np.cos(x) + 10*np.cos(10*x)\n",
    "\n",
    "def prob4(f,f1,x0,x1):\n",
    "    tol = 0.0001\n",
    "    n = 500\n",
    "    t = 0\n",
    "    x = x1 - ((x1 - x0) / (f1(x1) - f1(x0))) * f1(x1)\n",
    "    while abs(x - x1) > tol and t < n:\n",
    "        x0,x1 = x1,x.copy()\n",
    "        x = x1 - ((x1 - x0) / (f1(x1) - f1(x0))) * f1(x1)\n",
    "        t = t + 1\n",
    "    if t >= n:\n",
    "        x = \"Did Not Converge\"\n",
    "    return x,t\n",
    "\n",
    "start = time.time()\n",
    "result,its = prob4(h,h1,0,-1)\n",
    "print(\"Result (x0 = 0, x1 = -1):\",result)\n",
    "print(\"Time Taken: \",time.time()-start,\"seconds\")\n",
    "print(\"Iterations:\",its)\n",
    "print(\"--------------------------------------------------------------------------\")\n",
    "start = time.time()\n",
    "result,its = prob4(h,h1,0,-10)\n",
    "print(\"Result (x0 = 0, x1 = -10):\",result)\n",
    "print(\"Time Taken: \",time.time()-start,\"seconds\")\n",
    "print(\"Iterations:\",its)\n",
    "print(\"--------------------------------------------------------------------------\")\n",
    "start = time.time()\n",
    "result,its = prob4(h,h1,4,-1)\n",
    "print(\"Result (x0 = 4, x1 = -1):\",result)\n",
    "print(\"Time Taken: \",time.time()-start,\"seconds\")\n",
    "print(\"Iterations:\",its)"
   ]
  },
  {
   "cell_type": "markdown",
   "metadata": {},
   "source": [
    "Problem #5"
   ]
  },
  {
   "cell_type": "code",
   "execution_count": 71,
   "metadata": {
    "collapsed": true
   },
   "outputs": [],
   "source": [
    "def prob5(f,f1,x,p):\n",
    "    alpha = 1\n",
    "    rho   = 0.5\n",
    "    c     = 0.5\n",
    "    grad  = f(x) + c*alpha*f1(x)*p\n",
    "    t,tot = 1,100\n",
    "    while f(x + alpha*p) > grad and t < tot:\n",
    "        alpha = rho*alpha\n",
    "        t = t + 1\n",
    "    return f(x + alpha*p)"
   ]
  },
  {
   "cell_type": "code",
   "execution_count": null,
   "metadata": {
    "collapsed": true
   },
   "outputs": [],
   "source": []
  }
 ],
 "metadata": {
  "kernelspec": {
   "display_name": "Python 3",
   "language": "python",
   "name": "python3"
  },
  "language_info": {
   "codemirror_mode": {
    "name": "ipython",
    "version": 3
   },
   "file_extension": ".py",
   "mimetype": "text/x-python",
   "name": "python",
   "nbconvert_exporter": "python",
   "pygments_lexer": "ipython3",
   "version": "3.6.1"
  }
 },
 "nbformat": 4,
 "nbformat_minor": 2
}
