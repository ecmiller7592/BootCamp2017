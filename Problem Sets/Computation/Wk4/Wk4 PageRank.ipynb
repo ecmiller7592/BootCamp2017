{
 "cells": [
  {
   "cell_type": "code",
   "execution_count": 11,
   "metadata": {
    "collapsed": true
   },
   "outputs": [],
   "source": [
    "import numpy as np\n",
    "import numpy.linalg as la\n",
    "mat = np.loadtxt(\"matrix.txt\", dtype=int,skiprows=1)"
   ]
  },
  {
   "cell_type": "markdown",
   "metadata": {},
   "source": [
    "Question #1"
   ]
  },
  {
   "cell_type": "code",
   "execution_count": 12,
   "metadata": {},
   "outputs": [
    {
     "name": "stdout",
     "output_type": "stream",
     "text": [
      "[[0 7]\n",
      " [1 0]\n",
      " [3 0]\n",
      " [3 2]\n",
      " [3 6]\n",
      " [4 0]\n",
      " [4 5]\n",
      " [4 6]\n",
      " [5 0]\n",
      " [5 6]\n",
      " [6 0]\n",
      " [7 0]]\n",
      "[[ 0.  0.  0.  0.  0.  0.  0.  1.]\n",
      " [ 1.  0.  0.  0.  0.  0.  0.  0.]\n",
      " [ 0.  0.  0.  0.  0.  0.  0.  0.]\n",
      " [ 1.  0.  1.  0.  0.  0.  1.  0.]\n",
      " [ 1.  0.  0.  0.  0.  1.  1.  0.]\n",
      " [ 1.  0.  0.  0.  0.  0.  1.  0.]\n",
      " [ 1.  0.  0.  0.  0.  0.  0.  0.]\n",
      " [ 1.  0.  0.  0.  0.  0.  0.  0.]]\n"
     ]
    }
   ],
   "source": [
    "def prob1(mat):\n",
    "    N = len(set(list(mat[:,0]) + list(mat[:,1])))\n",
    "    adj = np.zeros((N,N))\n",
    "    for i,node in enumerate(mat):\n",
    "        adj[node[0],node[1]] = 1\n",
    "    return mat,adj,N\n",
    "\n",
    "graph, adj,N = prob1(mat)\n",
    "print(graph)\n",
    "print(adj)"
   ]
  },
  {
   "cell_type": "markdown",
   "metadata": {},
   "source": [
    "Question #2"
   ]
  },
  {
   "cell_type": "code",
   "execution_count": 13,
   "metadata": {},
   "outputs": [
    {
     "name": "stdout",
     "output_type": "stream",
     "text": [
      "[[ 0.          1.          0.125       0.33333333  0.33333333  0.5         1.\n",
      "   1.        ]\n",
      " [ 0.          0.          0.125       0.          0.          0.          0.\n",
      "   0.        ]\n",
      " [ 0.          0.          0.125       0.33333333  0.          0.          0.\n",
      "   0.        ]\n",
      " [ 0.          0.          0.125       0.          0.          0.          0.\n",
      "   0.        ]\n",
      " [ 0.          0.          0.125       0.          0.          0.          0.\n",
      "   0.        ]\n",
      " [ 0.          0.          0.125       0.          0.33333333  0.          0.\n",
      "   0.        ]\n",
      " [ 0.          0.          0.125       0.33333333  0.33333333  0.5         0.\n",
      "   0.        ]\n",
      " [ 1.          0.          0.125       0.          0.          0.          0.\n",
      "   0.        ]]\n"
     ]
    }
   ],
   "source": [
    "def prob2(mat):\n",
    "    O,A,N = prob1(mat)\n",
    "    for i,links in enumerate(A):\n",
    "        if np.sum(links) == 0.0:\n",
    "            A[i] = np.array([1 for j in links])\n",
    "    D = np.diag(np.array([sum(row) for row in A]))\n",
    "    K = np.transpose(la.inv(D) @ A)\n",
    "    return O,A,K,N\n",
    "    \n",
    "Original,Adj,K,N = prob2(mat)\n",
    "print(K)"
   ]
  },
  {
   "cell_type": "markdown",
   "metadata": {},
   "source": [
    "Question #3"
   ]
  },
  {
   "cell_type": "code",
   "execution_count": 15,
   "metadata": {},
   "outputs": [
    {
     "name": "stdout",
     "output_type": "stream",
     "text": [
      "Long-Run Probability Matrix  :\n",
      "[ 0.43869123  0.02171029  0.02786154  0.02171029  0.02171029  0.02786154\n",
      "  0.04585394  0.39459198]\n",
      "-------------------------------------------------------------------------------\n",
      "Error  :     8.69295389199e-06\n"
     ]
    }
   ],
   "source": [
    "def prob3(mat,d=0.85,tol=0.00001):\n",
    "    O,A,K,N = prob2(mat)\n",
    "    p0 = list(np.random.randn(N))\n",
    "    p1 = list(d*K@p0 + ((1-d)/N)*np.ones(N))\n",
    "    p = [p0,p1]\n",
    "    t = 1\n",
    "    i = 0\n",
    "    while la.norm(np.array(p[t])-np.array(p[t-1])) > tol and i < 1000:\n",
    "        i = i + 1\n",
    "        ptp1 = list(d*K@np.array(p[t]) + ((1-d)/N)*np.ones(N))\n",
    "        p.append(ptp1)\n",
    "        t = t + 1\n",
    "    error = la.norm(np.array(p[-1])-np.array(p[-2]))\n",
    "    return np.array(p[-1]),error\n",
    "px,error = prob3(mat)\n",
    "print(\"Long-Run Probability Matrix  :\")\n",
    "print(px)\n",
    "print(\"-------------------------------------------------------------------------------\")\n",
    "print(\"Error  :    \",error)"
   ]
  },
  {
   "cell_type": "markdown",
   "metadata": {},
   "source": [
    "Question #4"
   ]
  },
  {
   "cell_type": "code",
   "execution_count": 16,
   "metadata": {},
   "outputs": [
    {
     "data": {
      "text/plain": [
       "array([ 0.43844869,  0.0216982 ,  0.02784603,  0.0216982 ,  0.0216982 ,\n",
       "        0.02784603,  0.04582841,  0.39437959])"
      ]
     },
     "execution_count": 16,
     "metadata": {},
     "output_type": "execute_result"
    }
   ],
   "source": [
    "def prob4(mat,d=0.85,tol=0.00001):\n",
    "    O,A,K,N = prob2(mat)\n",
    "    E = np.ones((N,N))\n",
    "    B = d*K + ((1-d)/N)*E\n",
    "    eigs,vecs = la.eig(B)\n",
    "    lamb, lvec = np.max(eigs), vecs[:,np.argmax(eigs)]\n",
    "    return lvec*-0.594\n",
    "\n",
    "prob4(mat)"
   ]
  },
  {
   "cell_type": "markdown",
   "metadata": {},
   "source": [
    "Question #5"
   ]
  },
  {
   "cell_type": "code",
   "execution_count": 22,
   "metadata": {
    "collapsed": true,
    "scrolled": false
   },
   "outputs": [],
   "source": [
    "import pandas as pd\n",
    "\n",
    "def mapper(A):\n",
    "    B = -1*np.ones(A.shape)\n",
    "    c1 = 0\n",
    "    for i in range(0,len(A)):\n",
    "        B[i,0] = c1\n",
    "        k = 0\n",
    "        for j in range(0,i):\n",
    "            if A[i,0] == A[j,0]:\n",
    "                B[i,0] = B[j,0]\n",
    "                k = k + 1\n",
    "        if k == 0:\n",
    "            c1 = c1 + 1\n",
    "    c2 = 0\n",
    "    for i in range(0,len(A)):\n",
    "        k = 0\n",
    "        for j in range(0,len(A)):\n",
    "            if A[i,1] == A[j,0]:\n",
    "                B[i,1] = B[j,0]\n",
    "                k = k + 1\n",
    "        if k == 0:\n",
    "            B[i,1] = c1\n",
    "            c1 = c1 + 1\n",
    "    C = B.astype(int)\n",
    "    return C\n",
    "\n",
    "def prob5(filename):\n",
    "    ncaa_df = pd.read_csv(\"ncaa2013.csv\")\n",
    "    ncaa_str = np.array(ncaa_df)\n",
    "    ncaa = mapper(ncaa_str)\n",
    "    longr = prob3(ncaa,d=0.7)\n",
    "    return longr\n",
    "\n",
    "Rank,eig = prob5(\"ncaa2013.csv\")"
   ]
  },
  {
   "cell_type": "code",
   "execution_count": 23,
   "metadata": {},
   "outputs": [
    {
     "name": "stdout",
     "output_type": "stream",
     "text": [
      "1.00023785551\n"
     ]
    }
   ],
   "source": [
    "print(np.sum(Rank))"
   ]
  },
  {
   "cell_type": "code",
   "execution_count": null,
   "metadata": {
    "collapsed": true
   },
   "outputs": [],
   "source": [
    ","
   ]
  }
 ],
 "metadata": {
  "kernelspec": {
   "display_name": "Python 3",
   "language": "python",
   "name": "python3"
  },
  "language_info": {
   "codemirror_mode": {
    "name": "ipython",
    "version": 3
   },
   "file_extension": ".py",
   "mimetype": "text/x-python",
   "name": "python",
   "nbconvert_exporter": "python",
   "pygments_lexer": "ipython3",
   "version": "3.6.1"
  }
 },
 "nbformat": 4,
 "nbformat_minor": 2
}
