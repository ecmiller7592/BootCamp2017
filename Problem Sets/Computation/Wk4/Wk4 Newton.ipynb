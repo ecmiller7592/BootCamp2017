{
 "cells": [
  {
   "cell_type": "code",
   "execution_count": 65,
   "metadata": {},
   "outputs": [],
   "source": [
    "import numpy as np\n",
    "import scipy.optimize as opt\n",
    "\n",
    "def converge(f,x):\n",
    "    h,e,t,tol,it_count = 1,1,0,0.00001,500\n",
    "    while np.sum(e) > tol and t < it_count:\n",
    "        e = f(x+h) - f(x)\n",
    "        v = e/h\n",
    "        h = 0.5*h\n",
    "        t = t + 1\n",
    "    if t >= it_count:\n",
    "        return \"Derivative couldn't be computed\"\n",
    "    return v"
   ]
  },
  {
   "cell_type": "markdown",
   "metadata": {},
   "source": [
    "Question #1"
   ]
  },
  {
   "cell_type": "code",
   "execution_count": 41,
   "metadata": {},
   "outputs": [
    {
     "name": "stdout",
     "output_type": "stream",
     "text": [
      "f(xbar) =  7.22872883052e-12\n"
     ]
    }
   ],
   "source": [
    "def f(x):\n",
    "    return np.exp(x) - 1\n",
    "\n",
    "def Prob1(f,f1,x0,tol=0.00001,n=15):\n",
    "    t = 0\n",
    "    x = x0 - (f(x0) / f1(f,x0))\n",
    "    while abs(x - x0) > tol and t < n:\n",
    "        x0 = x.copy()\n",
    "        x = x0 - (f(x0) / f1(f,x0))\n",
    "        t = t + 1\n",
    "    if t >= n:\n",
    "        x = \"Did Not Converge\"\n",
    "    return x,t\n",
    "\n",
    "x,t = Prob1(f,converge,1)\n",
    "print(\"f(xbar) = \",x)"
   ]
  },
  {
   "cell_type": "markdown",
   "metadata": {},
   "source": [
    "Question #2"
   ]
  },
  {
   "cell_type": "code",
   "execution_count": 3,
   "metadata": {},
   "outputs": [
    {
     "data": {
      "text/plain": [
       "0.03877844488559264"
      ]
     },
     "execution_count": 3,
     "metadata": {},
     "output_type": "execute_result"
    }
   ],
   "source": [
    "N1 = 30\n",
    "N2 = 20\n",
    "P1 = 2000\n",
    "P2 = 8000\n",
    "\n",
    "def Prob2(N1,N2,P1,P2,tol=0.00001,n=100):\n",
    "    r0 = 0.1\n",
    "    error = lambda r : P1*((1 + r)**N1 - 1) - P2*(1 - (1 + r)**(-N2))\n",
    "    error1= lambda r : N1*P1*(1 + r)**(N2 - 1) - N2*P1*(1 + r)**(-N2 - 1)\n",
    "    r = r0 - (error(r0)/error1(r0))\n",
    "    t = 0\n",
    "    while abs(r - r0) > tol and t < n:\n",
    "        r0 = r\n",
    "        r = r0 - (error(r0)/error1(r0))\n",
    "        t = t + 1\n",
    "    if t >= n:\n",
    "        x = \"Did Not Converge\"\n",
    "    return r\n",
    "\n",
    "Prob2(N1,N2,P1,P2)"
   ]
  },
  {
   "cell_type": "markdown",
   "metadata": {},
   "source": [
    "Question #3"
   ]
  },
  {
   "cell_type": "code",
   "execution_count": 10,
   "metadata": {},
   "outputs": [
    {
     "name": "stdout",
     "output_type": "stream",
     "text": [
      "f(xbar)   :  Did Not Converge\n",
      "Iterations:  40\n",
      "------------------------------------------------------------\n",
      "f(xbar)   :  6.39999416199e-07\n",
      "Iterations:  5\n"
     ]
    }
   ],
   "source": [
    "f_prob3 = lambda x: np.sign(x) * np.power(np.abs(x), (1.0/3))\n",
    "\n",
    "def Prob3(f,f1,x0,a,tol=0.00001,n=40):\n",
    "    t = 0\n",
    "    x = x0 - a*(f(x0) / f1(f,x0))\n",
    "    while abs(x - x0) > tol and t < n:\n",
    "        x0 = x.copy()\n",
    "        x = x0 - a*(f(x0) / f1(f,x0))\n",
    "        t = t + 1\n",
    "    if t >= n:\n",
    "        x = \"Did Not Converge\"\n",
    "    return x,t,a\n",
    "\n",
    "x,t,a = Prob3(f_prob3,converge,0.01,1)\n",
    "print(\"f(xbar)   : \",x)\n",
    "print(\"Iterations: \",t)\n",
    "print(\"------------------------------------------------------------\")\n",
    "xt,t,a = Prob3(f_prob3,converge,0.01,0.4)\n",
    "print(\"f(xbar)   : \",xt)\n",
    "print(\"Iterations: \",t)"
   ]
  },
  {
   "cell_type": "markdown",
   "metadata": {},
   "source": [
    "Question #4"
   ]
  },
  {
   "cell_type": "code",
   "execution_count": 11,
   "metadata": {},
   "outputs": [
    {
     "name": "stderr",
     "output_type": "stream",
     "text": [
      "C:\\Anaconda\\lib\\site-packages\\ipykernel_launcher.py:8: RuntimeWarning: divide by zero encountered in double_scalars\n",
      "  \n",
      "C:\\Anaconda\\lib\\site-packages\\ipykernel_launcher.py:6: RuntimeWarning: invalid value encountered in double_scalars\n",
      "  \n"
     ]
    },
    {
     "name": "stdout",
     "output_type": "stream",
     "text": [
      "-1.08800064468e-06\n",
      "0\n",
      "0.9\n"
     ]
    }
   ],
   "source": [
    "def Prob4(base,f,f1,x0,a,tol=0.00001,n=100):\n",
    "    t = 0\n",
    "    h = 0.5\n",
    "    tr0 = n\n",
    "    tr = 0\n",
    "    while abs(tr - tr0) > tol and t <= n:\n",
    "        x1,tr1,a1 = Prob3(f_prob3,converge,x0,a,tol=0.00001,n=100)\n",
    "        x2,tr2,a2 = Prob3(f_prob3,converge,x0,a,tol=0.00001,n=100)\n",
    "        t = t + 1\n",
    "        h = h/2\n",
    "        if tr1 <= tr2:\n",
    "            a = a1\n",
    "        else:\n",
    "            a = a2\n",
    "    xr,trr,ar = Prob3(f,f1,xt,a,tol=0.00001,n=100)\n",
    "    return xr,trr,ar\n",
    "\n",
    "x,t,a = Prob4(Prob3,f_prob3,converge,0.01,0.9,tol=0.00001,n=100)\n",
    "print(x)\n",
    "print(t)\n",
    "print(a)"
   ]
  },
  {
   "cell_type": "markdown",
   "metadata": {
    "collapsed": true
   },
   "source": [
    "Question #5"
   ]
  },
  {
   "cell_type": "code",
   "execution_count": 50,
   "metadata": {},
   "outputs": [
    {
     "name": "stdout",
     "output_type": "stream",
     "text": [
      "[  0.00000000e+00   4.47457217e-11]\n",
      "[  2.55455163e-08   5.11945777e-07]\n"
     ]
    }
   ],
   "source": [
    "def Prob5_1(f,f1,x0,tol=0.00001,n=15):\n",
    "    t = 0\n",
    "    x = x0 - (f(x0) / f1(f,x0))\n",
    "    while abs(np.sum(x - x0)) > tol and t < n:\n",
    "        x0 = x.copy()\n",
    "        x = x0 - (f(x0) / f1(f,x0))\n",
    "        t = t + 1\n",
    "    if t >= n:\n",
    "        x = \"Did Not Converge\"\n",
    "    return x\n",
    "\n",
    "print(Prob5_1(f,converge,np.array([0,2])))\n",
    "\n",
    "f_prob3 = lambda x: np.sign(x) * np.power(np.abs(x), (1.0/3))\n",
    "\n",
    "def Prob5_3(f,f1,x0,a,tol=0.00001,n=50):\n",
    "    t = 0\n",
    "    x = x0 - a*(f(x0) / f1(f,x0))\n",
    "    while abs(np.sum(x - x0)) > tol and t < n:\n",
    "        x0 = x.copy()\n",
    "        x = x0 - a*(f(x0) / f1(f,x0))\n",
    "        t = t + 1\n",
    "    if t >= n:\n",
    "        x = \"Did Not Converge\"\n",
    "    return x\n",
    "\n",
    "print(Prob5_3(f_prob3,converge,np.array([0.01,0.2]),0.4))"
   ]
  },
  {
   "cell_type": "markdown",
   "metadata": {},
   "source": [
    "Question #6"
   ]
  },
  {
   "cell_type": "code",
   "execution_count": 104,
   "metadata": {
    "scrolled": false
   },
   "outputs": [
    {
     "name": "stdout",
     "output_type": "stream",
     "text": [
      "[-0.  1.]\n",
      "[-0.  1.]\n",
      "[-0.  1.]\n"
     ]
    }
   ],
   "source": [
    "x0_1 = np.array([0.6,0])\n",
    "x0_2 = np.array([0,-100])\n",
    "x0_3 = np.array([0.6,0.01])\n",
    "def Probg(x):\n",
    "    y = 5\n",
    "    d = 1\n",
    "    r1 = -x[0]*x[1] + (d-x[1])*(1+x[1])\n",
    "    r2 = y*x[0]*x[1] - x[0]*(1 - x[1])\n",
    "    return abs(r1) + abs(r2)\n",
    "\n",
    "def Prob6(f,x):\n",
    "    result1 = opt.minimize(f,x)\n",
    "    return result1\n",
    "\n",
    "result1 = Prob6(Probg,x0_1)\n",
    "print(np.round(result.x,2))\n",
    "result1 = Prob6(Probg,x0_2)\n",
    "print(np.round(result.x,2))\n",
    "result1 = Prob6(Probg,x0_3)\n",
    "print(np.round(result.x,2))"
   ]
  },
  {
   "cell_type": "markdown",
   "metadata": {},
   "source": [
    "Question #7"
   ]
  },
  {
   "cell_type": "code",
   "execution_count": null,
   "metadata": {
    "collapsed": true
   },
   "outputs": [],
   "source": []
  }
 ],
 "metadata": {
  "kernelspec": {
   "display_name": "Python 3",
   "language": "python",
   "name": "python3"
  },
  "language_info": {
   "codemirror_mode": {
    "name": "ipython",
    "version": 3
   },
   "file_extension": ".py",
   "mimetype": "text/x-python",
   "name": "python",
   "nbconvert_exporter": "python",
   "pygments_lexer": "ipython3",
   "version": "3.6.1"
  }
 },
 "nbformat": 4,
 "nbformat_minor": 2
}
