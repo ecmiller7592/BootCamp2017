{
 "cells": [
  {
   "cell_type": "markdown",
   "metadata": {
    "collapsed": false
   },
   "source": [
    "Question #1"
   ]
  },
  {
   "cell_type": "code",
   "execution_count": 0,
   "metadata": {
    "collapsed": false
   },
   "outputs": [
   ],
   "source": [
    "import numpy as np\n",
    "\n",
    "def arithmagic():\n",
    "    step_1 = raw_input(\"Enter a 3-digit number where the first and last digits differ by two or more:\")\n",
    "    if abs(int(str(step_1)[0]) - int(str(step_1)[-1])) < 2:\n",
    "        raise ValueError(\"Difference condition was not met\")\n",
    "\n",
    "    step_2 = raw_input(\"Enter the reverse of the first number, obtained by reading it backwards:\")\n",
    "    if str(step_2) != str(step_1)[::-1]:\n",
    "        raise ValueError(\"Reverse condition was not met\")\n",
    "\n",
    "    step_3 = raw_input(\"Enter the positive difference of these numbers:\")\n",
    "    if int(step_3) != abs(int(step_1) - int(step_2)):\n",
    "        raise ValueError(\"Subtraction condition was not met\")\n",
    "\n",
    "    step_4 = raw_input(\"Enter the reverse of the previous result:\")\n",
    "    if str(step_4) != str(step_3)[::-1]:\n",
    "        raise ValueError(\"Reverse condition was not met\")\n",
    "\n",
    "    return str(step_3) + \" + \" + str(step_4) + \" = 1089 (ta-da!)\"\n",
    "\n",
    "arithmagic()"
   ]
  },
  {
   "cell_type": "markdown",
   "metadata": {
    "collapsed": false
   },
   "source": [
    "Question #2"
   ]
  },
  {
   "cell_type": "code",
   "execution_count": 0,
   "metadata": {
    "collapsed": false
   },
   "outputs": [
   ],
   "source": [
    "from random import choice\n",
    "\n",
    "def random_walk(max_iters=10000000):\n",
    "    walk = 0\n",
    "    direction = [1,-1]\n",
    "    for i in xrange(int(max_iters)):\n",
    "        try:\n",
    "            walk += choice(direction)\n",
    "        except KeyboardInturrupt:\n",
    "            raise\n",
    "            print(\"Process inturrupted at iteration \"+i)\n",
    "    return \"Process complete\" and walk\n",
    "\n",
    "random_walk()"
   ]
  },
  {
   "cell_type": "markdown",
   "metadata": {
    "collapsed": false
   },
   "source": [
    "Question #3"
   ]
  },
  {
   "cell_type": "code",
   "execution_count": 0,
   "metadata": {
    "collapsed": false
   },
   "outputs": [
   ],
   "source": [
    "import os.path\n",
    "\n",
    "class ContentFilter(object):\n",
    "    def __init__(self, s_file):\n",
    "        if isinstance(s_file, basestring) == True:\n",
    "            self.File = open(s_file, 'r')\n",
    "            self.file_name = os.path.basename(s_file)\n",
    "            try:\n",
    "                self.file_contents = self.File.readlines()\n",
    "            finally:\n",
    "                self.File.close()\n",
    "\n",
    "C = ContentFilter(\"test.txt\")\n",
    "C.file_contents"
   ]
  },
  {
   "cell_type": "markdown",
   "metadata": {
    "collapsed": false
   },
   "source": [
    "Question #4"
   ]
  },
  {
   "cell_type": "code",
   "execution_count": 125,
   "metadata": {
    "collapsed": false
   },
   "outputs": [
   ],
   "source": [
   ]
  },
  {
   "cell_type": "code",
   "execution_count": 0,
   "metadata": {
    "collapsed": false
   },
   "outputs": [
   ],
   "source": [
   ]
  }
 ],
 "metadata": {
  "kernelspec": {
   "display_name": "Python 2 (SageMath)",
   "language": "python",
   "name": "python2"
  },
  "language_info": {
   "codemirror_mode": {
    "name": "ipython",
    "version": 2
   },
   "file_extension": ".py",
   "mimetype": "text/x-python",
   "name": "python",
   "nbconvert_exporter": "python",
   "pygments_lexer": "ipython2",
   "version": "2.7.13"
  }
 },
 "nbformat": 4,
 "nbformat_minor": 0
}