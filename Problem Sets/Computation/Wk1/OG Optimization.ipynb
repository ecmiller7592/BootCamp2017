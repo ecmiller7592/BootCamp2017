{
 "cells": [
  {
   "cell_type": "markdown",
   "metadata": {
    "collapsed": false
   },
   "source": [
    "3-period OG model steady-state optimization"
   ]
  },
  {
   "cell_type": "code",
   "execution_count": 1,
   "metadata": {
    "collapsed": false
   },
   "outputs": [
   ],
   "source": [
    "import numpy as np\n",
    "impoty scipy.optimize as opt\n",
    "\n",
    "# Solve for the steady state\n",
    "\n",
    "\n",
    "# Household parameters\n",
    "nvec = np.array([1.0,1.0,0.2])\n",
    "years_lived = 60\n",
    "S = 3\n",
    "beta_annual = 0.96\n",
    "beta = beta_annual ** (years_lived / S)\n",
    "sigma = 2.5\n",
    "\n",
    "# Firms Parameters\n",
    "alpha = 0.3\n",
    "A = 1.0\n",
    "delta_annual = 0.05\n",
    "delta = 1 - (1 - delta_annual) ** (years_lived / S)\n",
    "\n",
    "def rfunc(K, L, A, alpha, delta):\n",
    "    r = alpha * A * (L/K ** (years_lived / S))\n",
    "    return r\n",
    "\n",
    "def stuff(b2b3vals, beta, sigma, delta, A, alpha, nvec):\n",
    "    MUc1 = func1(b2b3vals)\n",
    "    MUc2 = func2(b2b3vals)\n",
    "    MUc3 = func3(b2b3vals)\n",
    "    r = rfunc(b2b3vals, nvec, alpha, A, delta)\n",
    "    error1 = MUc1 - beta * (1 + r) * MUc2\n",
    "    error2 = MUc2 - beta * (1 + r) * MUc3\n",
    "    errors = np.array([error1, error2])\n",
    "    return errors\n",
    "\n",
    "# we want to bring the errors down to 0\n",
    "\n",
    "b2bar, b3bar = opt.root(stuff)"
   ]
  },
  {
   "cell_type": "code",
   "execution_count": 0,
   "metadata": {
    "collapsed": false
   },
   "outputs": [
   ],
   "source": [
   ]
  }
 ],
 "metadata": {
  "kernelspec": {
   "display_name": "Python 2 (SageMath)",
   "language": "python",
   "name": "python2"
  },
  "language_info": {
   "codemirror_mode": {
    "name": "ipython",
    "version": 2
   },
   "file_extension": ".py",
   "mimetype": "text/x-python",
   "name": "python",
   "nbconvert_exporter": "python",
   "pygments_lexer": "ipython2",
   "version": "2.7.13"
  }
 },
 "nbformat": 4,
 "nbformat_minor": 0
}