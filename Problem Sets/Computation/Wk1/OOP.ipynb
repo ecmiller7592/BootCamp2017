{
 "cells": [
  {
   "cell_type": "markdown",
   "metadata": {
    "collapsed": false
   },
   "source": [
    "Classes"
   ]
  },
  {
   "cell_type": "code",
   "execution_count": 2,
   "metadata": {
    "collapsed": false
   },
   "outputs": [
   ],
   "source": [
    "import numpy as np\n",
    "\n",
    "class Backpack(object):\n",
    "    def __init__(self, name, color):\n",
    "        self.name = name\n",
    "        self.contents = []\n",
    "        self.color = color\n",
    "        self.max_size = 5\n",
    "        self.info = str(np.array([[\"Owner:   \", self.name],\n",
    "                              [\"Color:   \", self.color],\n",
    "                              [\"Size:    \", len(self.contents)],\n",
    "                              [\"Max Size:\", self.max_size],\n",
    "                              [\"Contents:\", self.contents]\n",
    "                              ]))\n",
    "\n",
    "    def put(self, item):\n",
    "        if len(self.contents) < self.max_size:\n",
    "            self.contents.append(item)\n",
    "        else:\n",
    "            print(\"No Room!\")\n",
    "\n",
    "    def take(self, item):\n",
    "        self.contents.remove(item)\n",
    "\n",
    "    def dump(self):\n",
    "        question = raw_input(\"Are You Sure? [Y/N]\")\n",
    "        if question == 'Y':\n",
    "            self.contents = []\n",
    "\n",
    "    def __eq__(self, other):\n",
    "        return self.name == other.name and self.color == other.color and len(self.contents) == len(other.contents)\n",
    "\n",
    "    def __str__(self):\n",
    "        return self.info\n",
    "\n",
    "\n",
    "class Jetpack(Backpack):\n",
    "    def __init__(self, name, color):\n",
    "        Backpack.__init__(self, name, color)\n",
    "        self.max_size = 2\n",
    "        self.fuel = 10\n",
    "\n",
    "    def fly(self):\n",
    "        amountstr = raw_input(\"How much fuel would you like to burn?\")\n",
    "        amount = int(amountstr)\n",
    "        if self.fuel - amount >= 0:\n",
    "            self.fuel = self.fuel - amount\n",
    "        else:\n",
    "            print \"Not enough fuel!\"\n",
    "    def dump(self):\n",
    "        question = raw_input(\"Are You Sure? [Y/N]\")\n",
    "        if question == 'Y':\n",
    "            self.contents = []\n",
    "            self.fuel = 0"
   ]
  },
  {
   "cell_type": "markdown",
   "metadata": {
    "collapsed": false
   },
   "source": [
    "Question #1"
   ]
  },
  {
   "cell_type": "code",
   "execution_count": 112,
   "metadata": {
    "cocalc": {
     "outputs": {
      "1": {
       "name": "input",
       "opts": {
        "password": false,
        "prompt": "Are You Sure? [Y/N]"
       },
       "output_type": "stream",
       "value": "Y"
      }
     }
    },
    "collapsed": false
   },
   "outputs": [
    {
     "name": "stdout",
     "output_type": "stream",
     "text": [
      "No Room!\n",
      "['pen1', 'pen2', 'pen3', 'pen4', 'pen5']\n"
     ]
    },
    {
     "name": "stdout",
     "output_type": "stream",
     "text": "Are You Sure? [Y/N] Y"
    },
    {
     "name": "stdout",
     "output_type": "stream",
     "text": [
      "[]\n"
     ]
    }
   ],
   "source": [
    "backpack = Backpack('Eric', 'Blue')\n",
    "backpack.put(\"pen1\")\n",
    "backpack.put(\"pen2\")\n",
    "backpack.put(\"pen3\")\n",
    "backpack.put(\"pen4\")\n",
    "backpack.put(\"pen5\")\n",
    "backpack.put(\"pen6\")\n",
    "print backpack.contents\n",
    "backpack.dump()\n",
    "print backpack.contents"
   ]
  },
  {
   "cell_type": "markdown",
   "metadata": {
    "collapsed": false
   },
   "source": [
    "Question #2"
   ]
  },
  {
   "cell_type": "code",
   "execution_count": 113,
   "metadata": {
    "cocalc": {
     "outputs": {
      "0": {
       "name": "input",
       "opts": {
        "password": false,
        "prompt": "How much fuel would you like to burn?"
       },
       "output_type": "stream",
       "value": "4"
      },
      "2": {
       "name": "input",
       "opts": {
        "password": false,
        "prompt": "Are You Sure? [Y/N]"
       },
       "output_type": "stream",
       "value": "Y"
      }
     }
    },
    "collapsed": false
   },
   "outputs": [
    {
     "name": "stdout",
     "output_type": "stream",
     "text": "How much fuel would you like to burn? 4"
    },
    {
     "name": "stdout",
     "output_type": "stream",
     "text": [
      "6\n"
     ]
    },
    {
     "name": "stdout",
     "output_type": "stream",
     "text": "Are You Sure? [Y/N] Y"
    },
    {
     "name": "stdout",
     "output_type": "stream",
     "text": [
      "0\n"
     ]
    }
   ],
   "source": [
    "jetpack = Jetpack('John', 'Brown')\n",
    "jetpack.fly()\n",
    "print jetpack.fuel\n",
    "jetpack.dump()\n",
    "print jetpack.fuel"
   ]
  },
  {
   "cell_type": "markdown",
   "metadata": {
    "collapsed": false
   },
   "source": [
    "Question #3"
   ]
  },
  {
   "cell_type": "code",
   "execution_count": 160,
   "metadata": {
    "collapsed": false
   },
   "outputs": [
    {
     "name": "stdout",
     "output_type": "stream",
     "text": [
      "[['Owner:   ' 'Oscar']\n",
      " ['Color:   ' 'Green']\n",
      " ['Size:    ' '0']\n",
      " ['Max Size:' '5']\n",
      " ['Contents:' '[]']]\n"
     ]
    }
   ],
   "source": [
    "backpack1 = Backpack('Oscar', 'Green')\n",
    "backpack2 = Backpack('Oscar', 'Green')\n",
    "backpack1 == backpack2\n",
    "print backpack1"
   ]
  },
  {
   "cell_type": "markdown",
   "metadata": {
    "collapsed": false
   },
   "source": [
    "Problem #4"
   ]
  },
  {
   "cell_type": "code",
   "execution_count": 267,
   "metadata": {
    "collapsed": false
   },
   "outputs": [
   ],
   "source": [
    "# Problem #4 Class\n",
    "\n",
    "class ComplexNumber(object):\n",
    "    def __init__(self, real, imag):\n",
    "        self.real = real\n",
    "        self.preimag = imag\n",
    "        self.imag = complex(0,imag)\n",
    "        self.comp = self.real + self.imag\n",
    "        self.conj = self.comp.conjugate()\n",
    "\n",
    "    def __abs__(self):\n",
    "        return (self.real**2 + self.preimag**2)**(0.5)\n",
    "\n",
    "    def __lt__(self, other):\n",
    "        return abs(self) < abs(other)\n",
    "\n",
    "    def __gt__(self, other):\n",
    "        return abs(self) > abs(other)\n",
    "\n",
    "    def __eq__(self, other):\n",
    "        return self.real == other.real and self.imag == other.imag\n",
    "\n",
    "    def __ne__(self, other):\n",
    "        return self.real != other.real or self.imag != other.imag\n",
    "\n",
    "    def __add__(self, other):\n",
    "        return self.comp + other.comp\n",
    "\n",
    "    def __sub__(self, other):\n",
    "        return self.comp - other.comp\n",
    "\n",
    "    def __mul__(self, other):\n",
    "        return self.comp * other.comp\n",
    "\n",
    "    def __div__(self, other):\n",
    "        return self.comp * self.conj"
   ]
  },
  {
   "cell_type": "code",
   "execution_count": 269,
   "metadata": {
    "collapsed": false
   },
   "outputs": [
    {
     "data": {
      "text/plain": [
       "(20+0j)"
      ]
     },
     "execution_count": 269,
     "metadata": {
     },
     "output_type": "execute_result"
    }
   ],
   "source": [
    "calc1 = ComplexNumber(4,-2)\n",
    "calc2 = ComplexNumber(3,7)\n",
    "calc1 / calc2"
   ]
  },
  {
   "cell_type": "code",
   "execution_count": 1,
   "metadata": {
    "collapsed": false
   },
   "outputs": [
   ],
   "source": [
   ]
  },
  {
   "cell_type": "code",
   "execution_count": 0,
   "metadata": {
    "collapsed": false
   },
   "outputs": [
   ],
   "source": [
   ]
  }
 ],
 "metadata": {
  "kernelspec": {
   "display_name": "Python 2 (SageMath)",
   "language": "python",
   "name": "python2"
  },
  "language_info": {
   "codemirror_mode": {
    "name": "ipython",
    "version": 2
   },
   "file_extension": ".py",
   "mimetype": "text/x-python",
   "name": "python",
   "nbconvert_exporter": "python",
   "pygments_lexer": "ipython2",
   "version": "2.7.13"
  }
 },
 "nbformat": 4,
 "nbformat_minor": 0
}