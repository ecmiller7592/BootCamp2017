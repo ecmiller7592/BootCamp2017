{
 "cells": [
  {
   "cell_type": "code",
   "execution_count": 1,
   "metadata": {
    "collapsed": true
   },
   "outputs": [],
   "source": [
    "import numpy as np\n",
    "from scipy import linalg as la\n",
    "import pickle"
   ]
  },
  {
   "cell_type": "markdown",
   "metadata": {},
   "source": [
    "Question #1"
   ]
  },
  {
   "cell_type": "code",
   "execution_count": 119,
   "metadata": {},
   "outputs": [
    {
     "name": "stdout",
     "output_type": "stream",
     "text": [
      "Base Matrix (Randomly Generated):\n",
      "[[ 3.15058854 -1.3693478  -4.4753564  -1.8236664 ]\n",
      " [-2.12407192 -8.09303142 -3.26178527 -3.44582122]\n",
      " [ 9.01196921 -3.12969293 -3.86191601  0.41154116]\n",
      " [ 1.93518736 -2.85011876  2.73728535 -1.07978251]]\n",
      "---------------------------------\n",
      "Results:\n",
      "Orthonormal Component (Q):\n",
      "[[ 0.3160108  -0.07877879 -0.56720754 -0.75644345]\n",
      " [-0.21304898 -0.94919063 -0.18047522  0.1451757 ]\n",
      " [ 0.90391988 -0.13782913 -0.01675556  0.40453829]\n",
      " [ 0.19410345 -0.27172448  0.80338257 -0.49301734]]\n",
      "Upper-Triangular Component (R):\n",
      "[[ 9.96987607 -2.09072617 -3.67888707  0.32024114]\n",
      " [ 0.          8.99551498  3.23711623  3.6510884 ]\n",
      " [ 0.          0.          5.39092319  0.7819086 ]\n",
      " [ 0.          0.          0.          1.57808665]]\n",
      "Check:\n",
      "True\n"
     ]
    }
   ],
   "source": [
    "def matrix_gen(m,n):\n",
    "    Rm = np.arange(m)\n",
    "    Rn = np.arange(n)\n",
    "    return np.array([[(10+10)*np.random.random() - 10 for i in Rn] for j in Rm])\n",
    "\n",
    "def M_Gram_Schmidt(A):\n",
    "    m,n = len(A),len(A[0])\n",
    "    Q = A.copy()\n",
    "    r1 = list(np.arange(0,n))\n",
    "    R = np.array([[0.0 for i in r1] for j in r1])\n",
    "    for i in np.arange(0,n):\n",
    "        R[i,i] = la.norm(Q[:,i])\n",
    "        Q[:,i] = Q[:,i] / R[i,i]\n",
    "        for j in np.arange(i+1,n):\n",
    "            R[i,j] = np.dot(Q[:,j],Q[:,i])\n",
    "            Q[:,j] = Q[:,j] - R[i,j]*Q[:,i]\n",
    "    return A,Q,R\n",
    "\n",
    "\n",
    "A,Q,R = M_Gram_Schmidt(matrix_gen(4,4))\n",
    "print(\"Base Matrix (Randomly Generated):\")\n",
    "print(A)\n",
    "print(\"---------------------------------\")\n",
    "print(\"Results:\")\n",
    "print(\"Orthonormal Component (Q):\")\n",
    "print(Q)\n",
    "print(\"Upper-Triangular Component (R):\")\n",
    "print(R)\n",
    "print(\"Check:\")\n",
    "print(la.norm(np.dot(Q,R) - A) < 0.00001)"
   ]
  },
  {
   "cell_type": "markdown",
   "metadata": {},
   "source": [
    "Question #2"
   ]
  },
  {
   "cell_type": "code",
   "execution_count": 136,
   "metadata": {},
   "outputs": [
    {
     "name": "stdout",
     "output_type": "stream",
     "text": [
      "Matrix:\n",
      "[[ 3.42878105  9.08052215 -4.47313495]\n",
      " [-7.22727906 -5.20568045  4.77067865]\n",
      " [ 5.28061768 -9.04787487  4.59122846]]\n",
      "Determinant: 180.652534114\n"
     ]
    }
   ],
   "source": [
    "def determiner(n):\n",
    "    A,Q,R = M_Gram_Schmidt(matrix_gen(n,n))\n",
    "    det = 1\n",
    "    for i in np.arange(n):\n",
    "        det = det * R[i,i]\n",
    "    return A,det\n",
    "\n",
    "B,det = determiner(3)\n",
    "print(\"Matrix:\")\n",
    "print(B)\n",
    "print(\"Determinant:\",det)"
   ]
  },
  {
   "cell_type": "markdown",
   "metadata": {},
   "source": [
    "Question #3"
   ]
  },
  {
   "cell_type": "code",
   "execution_count": 146,
   "metadata": {},
   "outputs": [
    {
     "name": "stdout",
     "output_type": "stream",
     "text": [
      "Solution for x:\n",
      "[ 0.07458389  0.06007275  0.00852546 -0.08017977]\n",
      "Check (Ax - b = 0):\n",
      "True\n"
     ]
    }
   ],
   "source": [
    "m,n = 4,4\n",
    "A,Q,R = M_Gram_Schmidt(matrix_gen(m,n))\n",
    "b = np.array([np.random.random() for i in np.arange(n)])\n",
    "x = np.array(np.dot(np.dot(np.linalg.inv(R),np.transpose(Q)),b))\n",
    "print(\"Solution for x:\")\n",
    "print(x)\n",
    "print(\"Check (Ax - b = 0):\")\n",
    "print(la.norm(np.dot(A,x) - b) < 0.0001)"
   ]
  },
  {
   "cell_type": "markdown",
   "metadata": {},
   "source": [
    "Question #4"
   ]
  },
  {
   "cell_type": "code",
   "execution_count": 241,
   "metadata": {},
   "outputs": [
    {
     "name": "stdout",
     "output_type": "stream",
     "text": [
      "Base Matrix (Randomly Generated):\n",
      "[[-5.36887257 -2.17398634 -7.81433585  5.66162161]\n",
      " [ 6.00831129 -3.81957801  9.1473898  -8.87174593]\n",
      " [-9.09585937  5.50252839 -2.7262812   9.35753904]\n",
      " [ 5.87884139  8.12363033  8.74719476 -3.19293413]]\n",
      "---------------------------------\n",
      "Results:\n",
      "Orthonormal Component (Q):\n",
      "[[-0.39772697 -0.24045268  0.24337904 -0.85132979]\n",
      " [ 0.44509669 -0.31503449 -0.76697202 -0.33822496]\n",
      " [-0.67382276  0.45077964 -0.58510876  0.02020733]\n",
      " [ 0.43550554  0.79983341  0.10083802 -0.40054104]]\n",
      "Upper-Triangular Component (R):\n",
      "[[  1.34988900e+01  -1.00527141e+00   1.28259272e+01  -1.38964277e+01]\n",
      " [  0.00000000e+00   1.07040184e+01   4.76458123e+00   3.09792664e+00]\n",
      " [  0.00000000e+00  -8.88178420e-16  -6.44041678e+00   2.38515373e+00]\n",
      " [  0.00000000e+00  -1.77635684e-15   2.22044605e-16  -3.51269176e-01]]\n",
      "Check:\n",
      "True\n"
     ]
    }
   ],
   "source": [
    "def Householder(A):\n",
    "    m,n = len(A),len(A[0])\n",
    "    R = A.copy()\n",
    "    Q = np.eye(m)\n",
    "    for k in np.arange(n):\n",
    "        u = R[k:,k].copy()\n",
    "        u[0] = u[0] + (abs(u[0])/u[0])*la.norm(u)\n",
    "        u = u / la.norm(u)\n",
    "        R[k:,k:] = R[k:,k:] - 2*np.outer(u,np.dot(u,R[k:,k:]))\n",
    "        Q[k:,:] = Q[k:,:] - 2*np.outer(u,np.dot(u,Q[k:,:]))\n",
    "    return A,np.transpose(Q),R\n",
    "\n",
    "A,Q,R = Householder(matrix_gen(4,4))\n",
    "print(\"Base Matrix (Randomly Generated):\")\n",
    "print(A)\n",
    "print(\"---------------------------------\")\n",
    "print(\"Results:\")\n",
    "print(\"Orthonormal Component (Q):\")\n",
    "print(Q)\n",
    "print(\"Upper-Triangular Component (R):\")\n",
    "print(R)\n",
    "print(\"Check:\")\n",
    "print(la.norm(np.dot(Q,R) - A) < 0.00001)"
   ]
  },
  {
   "cell_type": "markdown",
   "metadata": {},
   "source": [
    "Question #5"
   ]
  },
  {
   "cell_type": "code",
   "execution_count": 254,
   "metadata": {},
   "outputs": [
    {
     "name": "stdout",
     "output_type": "stream",
     "text": [
      "Base Matrix (Randomly Generated):\n",
      "[[ 1.75712508  4.45939587 -3.84030482 -9.42549704]\n",
      " [ 6.89029943 -3.87771033  2.50553903 -4.3307958 ]\n",
      " [-1.35836876  4.6917102  -4.42024303  6.6056762 ]\n",
      " [ 4.22759209 -8.09928488 -4.13599781 -9.06611288]]\n",
      "---------------------------------\n",
      "Results:\n",
      "Orthonormal Component (Q):\n",
      "[[ 1.          0.          0.          0.        ]\n",
      " [ 0.         -0.84056845  0.16571151 -0.51573673]\n",
      " [ 0.          0.16571151  0.98508053  0.04643322]\n",
      " [ 0.         -0.51573673  0.04643322  0.85548792]]\n",
      "Hessenberg Component (H):\n",
      "[[  1.75712508   0.47626488  -3.48169243 -10.54159081]\n",
      " [ -8.19719018 -11.87481761   1.10318058   3.78169042]\n",
      " [  0.          -6.48192139  -3.2231678    2.54262926]\n",
      " [  0.           5.81544758  -5.98347624  -2.26608083]]\n",
      "Check:\n",
      "False\n"
     ]
    }
   ],
   "source": [
    "def Hessenberg(A):\n",
    "    m,n = len(A),len(A[0])\n",
    "    H = A.copy()\n",
    "    Q = np.eye(m)\n",
    "    for k in np.arange(n-2):\n",
    "        u = H[k+1:,k].copy()\n",
    "        u[0] = u[0] + (abs(u[0])/u[0])*la.norm(u)\n",
    "        u = u / la.norm(u)\n",
    "        H[k+1:,k:] = H[k+1:,k:] - 2*np.outer(u,np.dot(u,H[k+1:,k:]))\n",
    "        H[:,k+1:] = H[:,k+1:] - 2*np.outer(np.dot(H[:,k+1:],u),u)\n",
    "        Q[k+1:,:] = Q[k+1:,:] - 2*np.outer(u,np.dot(u,Q[k+1:,:]))\n",
    "        return A,H,np.transpose(Q)\n",
    "    \n",
    "A,H,Q = Hessenberg(matrix_gen(4,4))\n",
    "print(\"Base Matrix (Randomly Generated):\")\n",
    "print(A)\n",
    "print(\"---------------------------------\")\n",
    "print(\"Results:\")\n",
    "print(\"Orthonormal Component (Q):\")\n",
    "print(Q)\n",
    "print(\"Hessenberg Component (H):\")\n",
    "print(H)\n",
    "print(\"Check:\")\n",
    "print(la.norm(np.dot(np.dot(Q,A),np.transpose(Q)) - A) < 0.00001)"
   ]
  },
  {
   "cell_type": "code",
   "execution_count": null,
   "metadata": {
    "collapsed": true
   },
   "outputs": [],
   "source": []
  }
 ],
 "metadata": {
  "kernelspec": {
   "display_name": "Python 3",
   "language": "python",
   "name": "python3"
  },
  "language_info": {
   "codemirror_mode": {
    "name": "ipython",
    "version": 3
   },
   "file_extension": ".py",
   "mimetype": "text/x-python",
   "name": "python",
   "nbconvert_exporter": "python",
   "pygments_lexer": "ipython3",
   "version": "3.6.1"
  }
 },
 "nbformat": 4,
 "nbformat_minor": 2
}
