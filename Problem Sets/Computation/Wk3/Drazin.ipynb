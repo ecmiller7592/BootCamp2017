{
 "cells": [
  {
   "cell_type": "code",
   "execution_count": 25,
   "metadata": {},
   "outputs": [],
   "source": [
    "import numpy as np\n",
    "import numpy.linalg as la\n",
    "from cmath import sqrt\n",
    "from matplotlib import pyplot as plt\n",
    "import pandas as pd\n",
    "from scipy import linalg as sla\n",
    "\n",
    "A = np.array([[1,3,0,0],[0,1,3,0],[0,0,1,3],[0,0,0,0]])\n",
    "AD = np.array([[1,-3,9,81],[0,1,-3,-18],[0,0,1,3],[0,0,0,0]])\n",
    "B = np.array([[1,1,3],[5,2,6],[-2,-1,-3]])\n",
    "BD = np.zeros((3,3))"
   ]
  },
  {
   "cell_type": "markdown",
   "metadata": {},
   "source": [
    "Question #1"
   ]
  },
  {
   "cell_type": "code",
   "execution_count": 21,
   "metadata": {},
   "outputs": [
    {
     "name": "stdout",
     "output_type": "stream",
     "text": [
      "True\n"
     ]
    },
    {
     "data": {
      "text/plain": [
       "True"
      ]
     },
     "execution_count": 21,
     "metadata": {},
     "output_type": "execute_result"
    }
   ],
   "source": [
    "def prob1(A,AD,k):\n",
    "    if np.allclose(A@AD,AD@A) == True and np.allclose(la.matrix_power(A,k+1)@AD,la.matrix_power(A,k)) == True and np.allclose(AD@A@AD,AD) == True:\n",
    "        return True\n",
    "    return False\n",
    "\n",
    "print(np.allclose(A@AD,AD@A))\n",
    "prob1(A,AD,3)\n"
   ]
  },
  {
   "cell_type": "markdown",
   "metadata": {},
   "source": [
    "Question #2"
   ]
  },
  {
   "cell_type": "code",
   "execution_count": 26,
   "metadata": {},
   "outputs": [
    {
     "data": {
      "text/plain": [
       "array([[  1.,  -3.,   9.,  81.],\n",
       "       [  0.,   1.,  -3., -18.],\n",
       "       [  0.,   0.,   1.,   3.],\n",
       "       [  0.,   0.,   0.,   0.]])"
      ]
     },
     "execution_count": 26,
     "metadata": {},
     "output_type": "execute_result"
    }
   ],
   "source": [
    "def prob2(A,tol):\n",
    "    (n,n) = A.shape\n",
    "    f = lambda x: abs(x) > tol\n",
    "    g = lambda x: abs(x) <= tol\n",
    "    Q1,S,k1 = sla.schur(A, sort=f)\n",
    "    Q2,T,k2 = sla.schur(A, sort=g)\n",
    "    U = np.column_stack((S[:,:k1], T[:,:(n-k1)]))\n",
    "    Uinv = la.inv(U)\n",
    "    V = Uinv@A@U\n",
    "    Z = np.zeros((n,n))\n",
    "    if k1 != 0:\n",
    "        M = la.inv(V[:k1,:k1])\n",
    "        Z[:k1,:k1] = M\n",
    "    return U@Z@Uinv\n",
    "\n",
    "prob2(A,0.0001)"
   ]
  },
  {
   "cell_type": "markdown",
   "metadata": {},
   "source": [
    "Question #3"
   ]
  },
  {
   "cell_type": "code",
   "execution_count": 34,
   "metadata": {},
   "outputs": [
    {
     "data": {
      "text/plain": [
       "array([[ 0.,  1.],\n",
       "       [ 1.,  0.]])"
      ]
     },
     "execution_count": 34,
     "metadata": {},
     "output_type": "execute_result"
    }
   ],
   "source": [
    "def prob3(A):\n",
    "    n,n = A.shape\n",
    "    D = np.diag(np.sum(A, axis=0))\n",
    "    L = D - A\n",
    "    I = np.eye(n)\n",
    "    R = np.zeros((n,n))\n",
    "    for i in range(n):\n",
    "        B = L.copy()\n",
    "        B[:,i] = I[:,i]\n",
    "        Drazin = prob2(B,0.001)\n",
    "        R[:,i] = np.diagonal(Drazin)\n",
    "        R[i,i] = 0\n",
    "    return R\n",
    "\n",
    "G = np.array([[0,1],[1,0]])\n",
    "prob3(G)"
   ]
  },
  {
   "cell_type": "markdown",
   "metadata": {},
   "source": [
    "Question #4"
   ]
  },
  {
   "cell_type": "code",
   "execution_count": 57,
   "metadata": {
    "scrolled": false
   },
   "outputs": [
    {
     "name": "stdout",
     "output_type": "stream",
     "text": [
      "[[ 0.          0.          0.         ...,  0.          0.          0.        ]\n",
      " [ 1.          0.          1.         ...,  1.          1.          1.        ]\n",
      " [ 0.5         0.5         0.         ...,  0.5         0.5         0.5       ]\n",
      " ..., \n",
      " [ 0.5         0.5         0.5        ...,  0.          0.5         0.5       ]\n",
      " [ 0.5         0.5         0.5        ...,  0.5         0.          0.5       ]\n",
      " [ 0.05882353  0.05882353  0.05882353 ...,  0.05882353  0.05882353  0.        ]]\n"
     ]
    }
   ],
   "source": [
    "class LinkPredictor(object):\n",
    "    \n",
    "    # Updated with improved functions from wk4 PageRank\n",
    "    \n",
    "    def __init__(self,file):\n",
    "        self.names = np.loadtxt(file, dtype=str,delimiter=\",\")\n",
    "        self.network = self.mapper(self.names)\n",
    "        self.adj = self.adjfunc(self.network)\n",
    "        self.rest = self.resistance(self.adj)\n",
    "    \n",
    "    def mapper(self,A):\n",
    "        B = -1*np.ones(A.shape)\n",
    "        c1 = 0\n",
    "        for i in range(0,len(A)):\n",
    "            B[i,0] = c1\n",
    "            k = 0\n",
    "            for j in range(0,i):\n",
    "                if A[i,0] == A[j,0]:\n",
    "                    B[i,0] = B[j,0]\n",
    "                    k = k + 1\n",
    "            if k == 0:\n",
    "                c1 = c1 + 1\n",
    "        c2 = 0\n",
    "        for i in range(0,len(A)):\n",
    "            k = 0\n",
    "            for j in range(0,len(A)):\n",
    "                if A[i,1] == A[j,0]:\n",
    "                    B[i,1] = B[j,0]\n",
    "                    k = k + 1\n",
    "            if k == 0:\n",
    "                for b in range(0,i):\n",
    "                    if A[i,1] == A[b,1]:\n",
    "                        B[i,1] = B[b,1]\n",
    "                        k = k + 1\n",
    "            if k == 0:\n",
    "                B[i,1] = c1\n",
    "                c1 = c1 + 1\n",
    "        C = B.astype(int)\n",
    "        return C\n",
    "\n",
    "    def adjfunc(self,mat):\n",
    "        N = len(set(list(mat[:,0]) + list(mat[:,1])))\n",
    "        adj = np.zeros((N,N))\n",
    "        for i,node in enumerate(mat):\n",
    "            adj[node[0],node[1]] = 1\n",
    "        return adj\n",
    "    \n",
    "    def resistance(self,A):\n",
    "        n,n = A.shape\n",
    "        D = np.diag(np.sum(A, axis=0))\n",
    "        L = D - A\n",
    "        I = np.eye(n)\n",
    "        R = np.zeros((n,n))\n",
    "        for i in range(n):\n",
    "            B = L.copy()\n",
    "            B[:,i] = I[:,i]\n",
    "            Drazin = self.Drazin(B)\n",
    "            R[:,i] = np.diagonal(Drazin)\n",
    "            R[i,i] = 0\n",
    "        return R\n",
    "\n",
    "    def Drazin(self,A,tol=0.0001):\n",
    "        (n,n) = A.shape\n",
    "        f = lambda x: abs(x) > tol\n",
    "        g = lambda x: abs(x) <= tol\n",
    "        Q1,S,k1 = sla.schur(A, sort=f)\n",
    "        Q2,T,k2 = sla.schur(A, sort=g)\n",
    "        U = np.column_stack((S[:,:k1], T[:,:(n-k1)]))\n",
    "        Uinv = la.inv(U)\n",
    "        V = Uinv@A@U\n",
    "        Z = np.zeros((n,n))\n",
    "        if k1 != 0:\n",
    "            M = la.inv(V[:k1,:k1])\n",
    "            Z[:k1,:k1] = M\n",
    "        return U@Z@Uinv\n",
    "\n",
    "        \n",
    "Link = LinkPredictor(\"social_network.csv\")\n",
    "print(Link.rest)"
   ]
  },
  {
   "cell_type": "markdown",
   "metadata": {},
   "source": [
    "Question #5"
   ]
  },
  {
   "cell_type": "code",
   "execution_count": null,
   "metadata": {
    "collapsed": true
   },
   "outputs": [],
   "source": []
  }
 ],
 "metadata": {
  "kernelspec": {
   "display_name": "Python 3",
   "language": "python",
   "name": "python3"
  },
  "language_info": {
   "codemirror_mode": {
    "name": "ipython",
    "version": 3
   },
   "file_extension": ".py",
   "mimetype": "text/x-python",
   "name": "python",
   "nbconvert_exporter": "python",
   "pygments_lexer": "ipython3",
   "version": "3.6.1"
  }
 },
 "nbformat": 4,
 "nbformat_minor": 2
}
